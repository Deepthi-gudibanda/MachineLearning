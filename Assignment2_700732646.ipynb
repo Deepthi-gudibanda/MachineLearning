{
 "cells": [
  {
   "cell_type": "code",
   "execution_count": null,
   "id": "c4572c61",
   "metadata": {},
   "outputs": [],
   "source": [
    "Name:Deepthi Gudibanda\n",
    "    700732646"
   ]
  },
  {
   "cell_type": "code",
   "execution_count": 3,
   "id": "b8b9d14b",
   "metadata": {},
   "outputs": [
    {
     "name": "stdout",
     "output_type": "stream",
     "text": [
      "*\n",
      "**\n",
      "***\n",
      "****\n",
      "*****\n",
      "****\n",
      "***\n",
      "**\n",
      "*\n"
     ]
    }
   ],
   "source": [
    "#Question 1\n",
    "for i in range(1,6): // range strts from 1 and ends up to before num \n",
    "    print(\"*\"*i)\n",
    "for i in range(1,5):\n",
    "    print (\"*\"*(5-i))\n",
    "    "
   ]
  },
  {
   "cell_type": "code",
   "execution_count": 1,
   "id": "38a6a657",
   "metadata": {},
   "outputs": [
    {
     "name": "stdout",
     "output_type": "stream",
     "text": [
      "20 40 60 80 100 "
     ]
    }
   ],
   "source": [
    "#Question 2\n",
    "my_list = [10, 20, 30, 40, 50, 60, 70, 80, 90, 100]\n",
    "for i in range(1,len(my_list),2):\n",
    "    print(my_list[i],end=\" \")"
   ]
  },
  {
   "cell_type": "code",
   "execution_count": 11,
   "id": "888175b0",
   "metadata": {
    "scrolled": true
   },
   "outputs": [
    {
     "name": "stdout",
     "output_type": "stream",
     "text": [
      "[23, 'Python', 23.98]\n",
      "[<class 'int'>, <class 'str'>, <class 'float'>]\n"
     ]
    }
   ],
   "source": [
    "#Question 3\n",
    "\n",
    "x= [23, 'Python', 23.98]\n",
    "l=[]\n",
    "for i in x: //iterations\n",
    "    l.append(type(i)) // used type function and append it to list \n",
    "print(x)\n",
    "print(l)\n",
    "\n",
    "\n"
   ]
  },
  {
   "cell_type": "code",
   "execution_count": 12,
   "id": "80c7daa2",
   "metadata": {},
   "outputs": [
    {
     "name": "stdout",
     "output_type": "stream",
     "text": [
      "[1, 2, 3, 4, 5]\n"
     ]
    }
   ],
   "source": [
    "#Question 4\n",
    "\n",
    "def remove_unique(l):\n",
    "    return list(set(l)) // using set we can remove the duplicates \n",
    "x=[1,2,3,3,3,3,4,5]\n",
    "print(remove_unique(x))"
   ]
  },
  {
   "cell_type": "code",
   "execution_count": 13,
   "id": "cd239ee6",
   "metadata": {},
   "outputs": [
    {
     "name": "stdout",
     "output_type": "stream",
     "text": [
      "No. of Upper-case characters :  3\n",
      "No. of Lower-case Characters :  12\n"
     ]
    }
   ],
   "source": [
    "#Question 5\n",
    "def cal(s):\n",
    "    u=0\n",
    "    l=0\n",
    "    for i in s:\n",
    "        if i.islower():\n",
    "            l+=1\n",
    "        if i.isupper():\n",
    "            u+=1\n",
    "    print(\"No. of Upper-case characters : \",u)\n",
    "    print(\"No. of Lower-case Characters : \",l)\n",
    "    \n",
    "        \n",
    "s= 'The quick Brow Fox'\n",
    "cal(s)\n",
    "\n"
   ]
  }
 ],
 "metadata": {
  "kernelspec": {
   "display_name": "Python 3 (ipykernel)",
   "language": "python",
   "name": "python3"
  },
  "language_info": {
   "codemirror_mode": {
    "name": "ipython",
    "version": 3
   },
   "file_extension": ".py",
   "mimetype": "text/x-python",
   "name": "python",
   "nbconvert_exporter": "python",
   "pygments_lexer": "ipython3",
   "version": "3.9.12"
  }
 },
 "nbformat": 4,
 "nbformat_minor": 5
}
