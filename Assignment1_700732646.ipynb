{
 "cells": [
  {
   "cell_type": "code",
   "execution_count": null,
   "id": "c4572c61",
   "metadata": {},
   "outputs": [],
   "source": [
    "Name:Deepthi Gudibanda\n",
    "    700732646"
   ]
  },
  {
   "cell_type": "code",
   "execution_count": 6,
   "id": "fb34d546",
   "metadata": {},
   "outputs": [
    {
     "name": "stdout",
     "output_type": "stream",
     "text": [
      "ages:  [19, 22, 19, 24, 20, 25, 26, 24, 25, 24]\n",
      "sorted ages:  [19, 19, 20, 22, 24, 24, 24, 25, 25, 26]\n",
      "max:  26\n",
      "min:  19\n",
      "Modified ages:  [19, 19, 20, 22, 24, 24, 24, 25, 25, 26, 19, 26]\n",
      "median of ages:  24.0\n",
      "average of ages:  22.75\n",
      "range of ages:  7\n"
     ]
    }
   ],
   "source": [
    "#Question 1\n",
    "\n",
    "from statistics import median\n",
    "import math\n",
    "ages = [19, 22, 19, 24, 20, 25, 26, 24, 25, 24]\n",
    "print(\"ages: \",ages)\n",
    "#sort the ages list\n",
    "ages.sort()\n",
    "print(\"sorted ages: \",ages)\n",
    "#Find min and max from ages\n",
    "minimum=min(ages)\n",
    "maximum=max(ages)\n",
    "print(\"max: \",maximum)\n",
    "print(\"min: \",minimum)\n",
    "#add min and max again to the ages\n",
    "ages.append(minimum)\n",
    "ages.append(maximum)\n",
    "print(\"Modified ages: \",ages)\n",
    "#Find median of ages\n",
    "print(\"median of ages: \",median(ages))\n",
    "#Find average of ages\n",
    "print(\"average of ages: \",sum(ages)/len(ages))\n",
    "#Find range of ages\n",
    "print(\"range of ages: \",maximum-minimum)"
   ]
  },
  {
   "cell_type": "code",
   "execution_count": 11,
   "id": "1436d6bd",
   "metadata": {},
   "outputs": [
    {
     "name": "stdout",
     "output_type": "stream",
     "text": [
      "dog dictionary:  {'name': 'Marley', 'color': 'White', 'breed': 'Bulldog', 'legs': 'Short', 'age': 2}\n",
      "length of student dictionary:  9\n",
      "Value of student skills:  ['Technical skills', 'Analytical skills', 'Presentation skills']\n",
      "Type of the skills:  <class 'list'>\n",
      "Modified skills:  ['Technical skills', 'Analytical skills', 'Presentation skills', 'Management skills']\n",
      "keys:  dict_keys(['first_name', 'last_name', 'gender', 'age', 'marital status', 'skills', 'country', 'city', 'address'])\n",
      "Vlaues:  dict_values(['Deepthi', 'Gudibanda', 'Female', 29, 'married', ['Technical skills', 'Analytical skills', 'Presentation skills', 'Management skills'], 'India', 'Hyderabad', 'plot no3, Nagole , TS-500068'])\n"
     ]
    }
   ],
   "source": [
    "#Question 2\n",
    "\n",
    "#Create empty dictionary dog\n",
    "dog={}\n",
    "#Add name, color, breed, legs, age to the dog dictionary\n",
    "dog[\"name\"]=\"Marley\"\n",
    "dog[\"color\"]=\"White\"\n",
    "dog[\"breed\"]=\"Bulldog\"\n",
    "dog[\"legs\"]=\"Short\"\n",
    "dog[\"age\"]=2\n",
    "print(\"dog dictionary: \",dog)\n",
    "#Create a student dictionary and add first_name, last_name, gender, age, marital status,\n",
    "#skills, country, city and address as keys for the dictionary\n",
    "student=dict()\n",
    "student={\"first_name\":\"Deepthi\",\"last_name\":\"Gudibanda\",\"gender\":\"Female\",\"age\":29,\"marital status\":\"married\",\n",
    "         \"skills\":[\"Technical skills\",\"Analytical skills\",\"Presentation skills\"],\"country\":\"India\",\n",
    "         \"city\":\"Hyderabad\",\"address\":\"plot no3, Nagole , TS-500068\"}\n",
    "#Get the length of the student dictionary\n",
    "print(\"length of student dictionary: \",len(student))\n",
    "#Get the value of skills and check the data type, it should be a list\n",
    "stu=student[\"skills\"]\n",
    "print(\"Value of student skills: \",stu)\n",
    "print(\"Type of the skills: \",type(stu))\n",
    "#Modify the skills values by adding one or two skills\n",
    "stu.append(\"Management skills\")\n",
    "print(\"Modified skills: \",student[\"skills\"])\n",
    "#Get the dictionary keys as a list\n",
    "print(\"keys: \",student.keys())\n",
    "#Get the dictionary values as a list\n",
    "print(\"Vlaues: \",student.values())"
   ]
  },
  {
   "cell_type": "code",
   "execution_count": 7,
   "id": "54f2c891",
   "metadata": {
    "scrolled": true
   },
   "outputs": [
    {
     "name": "stdout",
     "output_type": "stream",
     "text": [
      "brothers tuple is:  ('Saikiran', 'Yugendher', 'Saiprakash', 'kranthi', 'Rajesh')\n",
      "sisters tuple is:  ('Gouthami', 'Sirisha', 'niveditha', 'Premalatha')\n",
      "siblings tuple is:  ('Saikiran', 'Yugendher', 'Saiprakash', 'kranthi', 'Rajesh', 'Gouthami', 'Sirisha', 'niveditha', 'Premalatha')\n",
      "How many siblings do you have? :-  9\n",
      "family_members tuple:  ('Saikiran', 'Yugendher', 'Saiprakash', 'kranthi', 'Rajesh', 'Gouthami', 'Sirisha', 'niveditha', 'Premalatha', 'Krishnareddy', 'chandrakala')\n"
     ]
    }
   ],
   "source": [
    "#Question 3\n",
    "\n",
    "#Create a tuple containing names of your sisters and your brothers(imaginary siblings are\n",
    "#fine)\n",
    "\n",
    "siblings=tuple()\n",
    "brothers=(\"Saikiran\",\"Yugendher\",\"Saiprakash\",\"kranthi\",\"Rajesh\")\n",
    "sisters=(\"Gouthami\",\"Sirisha\",\"niveditha\",\"Premalatha\")\n",
    "print(\"brothers tuple is: \",brothers)\n",
    "print(\"sisters tuple is: \",sisters)\n",
    "#Join brothers and sisters tuples and assign it to siblings\n",
    "siblings=brothers+sisters\n",
    "print(\"siblings tuple is: \",siblings)\n",
    "#How many siblings do you have?\n",
    "print(\"How many siblings do you have? :- \",len(siblings))\n",
    "#Modify the siblings tuple and add the name of your father and mother and assign it to\n",
    "#family_members\n",
    "\n",
    "temp=list(siblings)\n",
    "temp.append(\"Krishnareddy\")\n",
    "temp.append(\"chandrakala\")\n",
    "family_members=tuple(temp)\n",
    "print(\"family_members tuple: \",family_members)"
   ]
  },
  {
   "cell_type": "code",
   "execution_count": 8,
   "id": "c931515d",
   "metadata": {},
   "outputs": [
    {
     "name": "stdout",
     "output_type": "stream",
     "text": [
      "The length of the set it_companies:  7\n",
      "{'Apple', 'IBM', 'Microsoft', 'Twitter', 'Google', 'Amazon', 'Facebook', 'Oracle'}\n",
      "{'Apple', 'Microsoft', 'Equifax', 'Google', 'Mastercard', 'Facebook', 'Oracle', 'Twitter', 'Amazon', 'IBM', 'Charter'}\n",
      "{'Apple', 'Microsoft', 'Google', 'Mastercard', 'Facebook', 'Oracle', 'Twitter', 'Amazon', 'IBM', 'Charter'}\n",
      "'The difference between remove and discard is if the item to be \n",
      "      deleted is not present in the set then discard raises an error where discard method will not raise an error.\n",
      "A union B is:  {19, 20, 22, 24, 25, 26, 27, 28}\n",
      "A intersection B is:  {19, 20, 22, 24, 25, 26}\n",
      "Is A subset of B True\n",
      "Are A and B disjoint sets False\n",
      "Join A with B:  {19, 20, 22, 24, 25, 26, 27, 28}\n",
      "Join B with A:  {19, 20, 22, 24, 25, 26, 27, 28}\n",
      "The symmetric difference between A and B set()\n",
      "set()\n",
      "set()\n",
      "set()\n",
      "ages set:  {19, 22, 24, 25, 26}\n",
      "length of ages list:  8\n",
      "length of ages set:  5\n"
     ]
    }
   ],
   "source": [
    "#Question 4\n",
    "\n",
    "it_companies = {'Facebook', 'Google', 'Microsoft', 'Apple', 'IBM', 'Oracle', 'Amazon'}\n",
    "A = {19, 22, 24, 20, 25, 26}\n",
    "B = {19, 22, 20, 25, 26, 24, 28, 27}\n",
    "age = [22, 19, 24, 25, 26, 24, 25, 24]\n",
    "print(\"The length of the set it_companies: \",len(it_companies))   #Find the length of the set it_companies\n",
    "it_companies.add(\"Twitter\") #Add 'Twitter' to it_companies\n",
    "print(it_companies)\n",
    "other={\"Equifax\",\"Charter\",\"Mastercard\"}\n",
    "it_companies.update(other)       #Insert multiple IT companies at once to the set it_companies\n",
    "print(it_companies)\n",
    "it_companies.remove(\"Equifax\")   #Remove one of the companies from the set it_companies\n",
    "print(it_companies)\n",
    "#What is the difference between remove and discard\n",
    "print(''''The difference between remove and discard is if the item to be \n",
    "      deleted is not present in the set then discard raises an error where discard method will not raise an error.''')\n",
    "temp=A.union(B)     #Join A and B\n",
    "print(\"A union B is: \",temp)\n",
    "temp=A.intersection(B)     #Find A intersection B\n",
    "print(\"A intersection B is: \",temp)\n",
    "print(\"Is A subset of B\",A.issubset(B))   #Is A subset of B\n",
    "print(\"Are A and B disjoint sets\",A.isdisjoint(B))   #Are A and B disjoint sets\n",
    "A.update(B)   #Join A with B\n",
    "print(\"Join A with B: \",A)\n",
    "B.update(A)   #Join B with A\n",
    "print(\"Join B with A: \",B)\n",
    "print(\"The symmetric difference between A and B\",A.symmetric_difference(B)) #What is the symmetric difference between A and B\n",
    "it_companies.clear(),A.clear(),B.clear()     #Delete the sets completely\n",
    "print(it_companies)\n",
    "print(A)\n",
    "print(B)\n",
    "age_set=set(age)   #Convert the ages to a set and compare the length of the list and the set.\n",
    "print(\"ages set: \",age_set)\n",
    "print(\"length of ages list: \",len(age))\n",
    "print(\"length of ages set: \",len(age_set))"
   ]
  },
  {
   "cell_type": "code",
   "execution_count": 1,
   "id": "77b97668",
   "metadata": {},
   "outputs": [
    {
     "name": "stdout",
     "output_type": "stream",
     "text": [
      "Enter radius of circle: 30\n",
      "area of circle:  2826.0\n",
      "circumference of circle:  188.4\n"
     ]
    }
   ],
   "source": [
    "#Question 5\n",
    "\n",
    "rad=int(input(\"Enter radius of circle: \"))\n",
    "#Calculate the area of a circle and assign the value to a variable name of _area_of_circle_\n",
    "_area_of_circle_=(3.14)*rad*rad\n",
    "print(\"area of circle: \",_area_of_circle_)\n",
    "#Calculate the circumference of a circle and assign the value to a variable name of\n",
    "_circum_of_circle_=(3.14)*rad*2\n",
    "print(\"circumference of circle: \",_circum_of_circle_)"
   ]
  },
  {
   "cell_type": "code",
   "execution_count": 2,
   "id": "1c065ab0",
   "metadata": {},
   "outputs": [
    {
     "name": "stdout",
     "output_type": "stream",
     "text": [
      "Number of unique words in the given sentence:  10\n"
     ]
    }
   ],
   "source": [
    "#Question 6\n",
    "\n",
    "text=\"I am a teacher and I love to inspire and teach people\"\n",
    "t=text.split(\" \")\n",
    "print(\"Number of unique words in the given sentence: \",len(set(t)))"
   ]
  },
  {
   "cell_type": "code",
   "execution_count": 3,
   "id": "d3630b1a",
   "metadata": {},
   "outputs": [
    {
     "name": "stdout",
     "output_type": "stream",
     "text": [
      "Name\t\tAge\tCountry\tCity\n",
      "Asabeneh\t250\tFinland\tHelsinki\n"
     ]
    }
   ],
   "source": [
    "#Question 7\n",
    "\n",
    "print(\"Name\\t\\tAge\\tCountry\\tCity\\nAsabeneh\\t250\\tFinland\\tHelsinki\")"
   ]
  },
  {
   "cell_type": "code",
   "execution_count": 4,
   "id": "c0c79957",
   "metadata": {},
   "outputs": [
    {
     "name": "stdout",
     "output_type": "stream",
     "text": [
      "The area of a circle with radius 10 is 314.0 meters square\n"
     ]
    }
   ],
   "source": [
    "#Question 8\n",
    "\n",
    "#The string formatting method to display the following\n",
    "radius=10\n",
    "area=3.14*radius**2\n",
    "text=\"The area of a circle with radius {0} is {1} meters square\".format(radius,area)\n",
    "print(text)"
   ]
  },
  {
   "cell_type": "code",
   "execution_count": 10,
   "id": "68c013d2",
   "metadata": {},
   "outputs": [
    {
     "name": "stdout",
     "output_type": "stream",
     "text": [
      "Enter no of students: 4\n",
      "Enter weights in lbs\n",
      "150 155 145 148\n",
      "Weights in kgs:  [67.5, 69.75, 65.25, 66.60000000000001]\n"
     ]
    }
   ],
   "source": [
    "#Question 9\n",
    "\n",
    "N=int(input(\"Enter no of students: \"))\n",
    "print(\"Enter weights in lbs\")\n",
    "wts=list(map(int,input().split()))\n",
    "nwts=[]\n",
    "for i in wts:\n",
    "    nwts.append(i*0.45)\n",
    "print(\"Weights in kgs: \",nwts)"
   ]
  },
  {
   "cell_type": "code",
   "execution_count": null,
   "id": "e492fd7c",
   "metadata": {},
   "outputs": [],
   "source": []
  }
 ],
 "metadata": {
  "kernelspec": {
   "display_name": "Python 3 (ipykernel)",
   "language": "python",
   "name": "python3"
  },
  "language_info": {
   "codemirror_mode": {
    "name": "ipython",
    "version": 3
   },
   "file_extension": ".py",
   "mimetype": "text/x-python",
   "name": "python",
   "nbconvert_exporter": "python",
   "pygments_lexer": "ipython3",
   "version": "3.9.12"
  }
 },
 "nbformat": 4,
 "nbformat_minor": 5
}
