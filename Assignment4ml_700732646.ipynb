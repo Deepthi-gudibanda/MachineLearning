{
 "cells": [
  {
   "cell_type": "code",
   "execution_count": null,
   "id": "95205d2c",
   "metadata": {},
   "outputs": [],
   "source": [
    "Deepthi Gudibanda \n",
    "700732646"
   ]
  },
  {
   "cell_type": "markdown",
   "id": "c974413a",
   "metadata": {},
   "source": [
    "# 1.Pandas\n",
    "#1.Read the provided CSV file ‘data.csv\n",
    "https://drive.google.com/drive/folders/1h8C3mLsso-R-sIOLsvoYwPLzy2fJ4IOF?usp=sharing\n"
   ]
  },
  {
   "cell_type": "code",
   "execution_count": 8,
   "id": "426e449b",
   "metadata": {},
   "outputs": [
    {
     "data": {
      "text/html": [
       "<div>\n",
       "<style scoped>\n",
       "    .dataframe tbody tr th:only-of-type {\n",
       "        vertical-align: middle;\n",
       "    }\n",
       "\n",
       "    .dataframe tbody tr th {\n",
       "        vertical-align: top;\n",
       "    }\n",
       "\n",
       "    .dataframe thead th {\n",
       "        text-align: right;\n",
       "    }\n",
       "</style>\n",
       "<table border=\"1\" class=\"dataframe\">\n",
       "  <thead>\n",
       "    <tr style=\"text-align: right;\">\n",
       "      <th></th>\n",
       "      <th>Duration</th>\n",
       "      <th>Pulse</th>\n",
       "      <th>Maxpulse</th>\n",
       "      <th>Calories</th>\n",
       "    </tr>\n",
       "  </thead>\n",
       "  <tbody>\n",
       "    <tr>\n",
       "      <th>0</th>\n",
       "      <td>60</td>\n",
       "      <td>110</td>\n",
       "      <td>130</td>\n",
       "      <td>409.1</td>\n",
       "    </tr>\n",
       "    <tr>\n",
       "      <th>1</th>\n",
       "      <td>60</td>\n",
       "      <td>117</td>\n",
       "      <td>145</td>\n",
       "      <td>479.0</td>\n",
       "    </tr>\n",
       "    <tr>\n",
       "      <th>2</th>\n",
       "      <td>60</td>\n",
       "      <td>103</td>\n",
       "      <td>135</td>\n",
       "      <td>340.0</td>\n",
       "    </tr>\n",
       "    <tr>\n",
       "      <th>3</th>\n",
       "      <td>45</td>\n",
       "      <td>109</td>\n",
       "      <td>175</td>\n",
       "      <td>282.4</td>\n",
       "    </tr>\n",
       "    <tr>\n",
       "      <th>4</th>\n",
       "      <td>45</td>\n",
       "      <td>117</td>\n",
       "      <td>148</td>\n",
       "      <td>406.0</td>\n",
       "    </tr>\n",
       "  </tbody>\n",
       "</table>\n",
       "</div>"
      ],
      "text/plain": [
       "   Duration  Pulse  Maxpulse  Calories\n",
       "0        60    110       130     409.1\n",
       "1        60    117       145     479.0\n",
       "2        60    103       135     340.0\n",
       "3        45    109       175     282.4\n",
       "4        45    117       148     406.0"
      ]
     },
     "execution_count": 8,
     "metadata": {},
     "output_type": "execute_result"
    }
   ],
   "source": [
    "import pandas as pd\n",
    "import numpy as np\n",
    "\n",
    "data = pd.read_csv(\"data.csv\")\n",
    "data.head()"
   ]
  },
  {
   "cell_type": "markdown",
   "id": "4080fd36",
   "metadata": {},
   "source": [
    "# 2. Show the basic statistical description about the data."
   ]
  },
  {
   "cell_type": "code",
   "execution_count": 9,
   "id": "4721a601",
   "metadata": {
    "scrolled": true
   },
   "outputs": [
    {
     "data": {
      "text/html": [
       "<div>\n",
       "<style scoped>\n",
       "    .dataframe tbody tr th:only-of-type {\n",
       "        vertical-align: middle;\n",
       "    }\n",
       "\n",
       "    .dataframe tbody tr th {\n",
       "        vertical-align: top;\n",
       "    }\n",
       "\n",
       "    .dataframe thead th {\n",
       "        text-align: right;\n",
       "    }\n",
       "</style>\n",
       "<table border=\"1\" class=\"dataframe\">\n",
       "  <thead>\n",
       "    <tr style=\"text-align: right;\">\n",
       "      <th></th>\n",
       "      <th>Duration</th>\n",
       "      <th>Pulse</th>\n",
       "      <th>Maxpulse</th>\n",
       "      <th>Calories</th>\n",
       "    </tr>\n",
       "  </thead>\n",
       "  <tbody>\n",
       "    <tr>\n",
       "      <th>count</th>\n",
       "      <td>169.000000</td>\n",
       "      <td>169.000000</td>\n",
       "      <td>169.000000</td>\n",
       "      <td>164.000000</td>\n",
       "    </tr>\n",
       "    <tr>\n",
       "      <th>mean</th>\n",
       "      <td>63.846154</td>\n",
       "      <td>107.461538</td>\n",
       "      <td>134.047337</td>\n",
       "      <td>375.790244</td>\n",
       "    </tr>\n",
       "    <tr>\n",
       "      <th>std</th>\n",
       "      <td>42.299949</td>\n",
       "      <td>14.510259</td>\n",
       "      <td>16.450434</td>\n",
       "      <td>266.379919</td>\n",
       "    </tr>\n",
       "    <tr>\n",
       "      <th>min</th>\n",
       "      <td>15.000000</td>\n",
       "      <td>80.000000</td>\n",
       "      <td>100.000000</td>\n",
       "      <td>50.300000</td>\n",
       "    </tr>\n",
       "    <tr>\n",
       "      <th>25%</th>\n",
       "      <td>45.000000</td>\n",
       "      <td>100.000000</td>\n",
       "      <td>124.000000</td>\n",
       "      <td>250.925000</td>\n",
       "    </tr>\n",
       "    <tr>\n",
       "      <th>50%</th>\n",
       "      <td>60.000000</td>\n",
       "      <td>105.000000</td>\n",
       "      <td>131.000000</td>\n",
       "      <td>318.600000</td>\n",
       "    </tr>\n",
       "    <tr>\n",
       "      <th>75%</th>\n",
       "      <td>60.000000</td>\n",
       "      <td>111.000000</td>\n",
       "      <td>141.000000</td>\n",
       "      <td>387.600000</td>\n",
       "    </tr>\n",
       "    <tr>\n",
       "      <th>max</th>\n",
       "      <td>300.000000</td>\n",
       "      <td>159.000000</td>\n",
       "      <td>184.000000</td>\n",
       "      <td>1860.400000</td>\n",
       "    </tr>\n",
       "  </tbody>\n",
       "</table>\n",
       "</div>"
      ],
      "text/plain": [
       "         Duration       Pulse    Maxpulse     Calories\n",
       "count  169.000000  169.000000  169.000000   164.000000\n",
       "mean    63.846154  107.461538  134.047337   375.790244\n",
       "std     42.299949   14.510259   16.450434   266.379919\n",
       "min     15.000000   80.000000  100.000000    50.300000\n",
       "25%     45.000000  100.000000  124.000000   250.925000\n",
       "50%     60.000000  105.000000  131.000000   318.600000\n",
       "75%     60.000000  111.000000  141.000000   387.600000\n",
       "max    300.000000  159.000000  184.000000  1860.400000"
      ]
     },
     "execution_count": 9,
     "metadata": {},
     "output_type": "execute_result"
    }
   ],
   "source": [
    "data.describe()"
   ]
  },
  {
   "cell_type": "markdown",
   "id": "30977130",
   "metadata": {},
   "source": [
    "# 3. Check if the data has null values."
   ]
  },
  {
   "cell_type": "code",
   "execution_count": 10,
   "id": "f56bad00",
   "metadata": {
    "scrolled": true
   },
   "outputs": [
    {
     "data": {
      "text/plain": [
       "Duration    False\n",
       "Pulse       False\n",
       "Maxpulse    False\n",
       "Calories     True\n",
       "dtype: bool"
      ]
     },
     "execution_count": 10,
     "metadata": {},
     "output_type": "execute_result"
    }
   ],
   "source": [
    "data.isnull().any()"
   ]
  },
  {
   "cell_type": "markdown",
   "id": "05a3c21d",
   "metadata": {},
   "source": [
    "# a. Replace the null values with the mean"
   ]
  },
  {
   "cell_type": "code",
   "execution_count": 11,
   "id": "5a26cd28",
   "metadata": {
    "scrolled": true
   },
   "outputs": [
    {
     "data": {
      "text/plain": [
       "Duration    False\n",
       "Pulse       False\n",
       "Maxpulse    False\n",
       "Calories    False\n",
       "dtype: bool"
      ]
     },
     "execution_count": 11,
     "metadata": {},
     "output_type": "execute_result"
    }
   ],
   "source": [
    "data.fillna(data.mean(), inplace=True)\n",
    "data.isnull().any()"
   ]
  },
  {
   "cell_type": "markdown",
   "id": "c0e6ff95",
   "metadata": {},
   "source": [
    "# 4. Select at least two columns and aggregate the data using: min, max, count, mean."
   ]
  },
  {
   "cell_type": "code",
   "execution_count": 12,
   "id": "3377d249",
   "metadata": {
    "scrolled": true
   },
   "outputs": [
    {
     "data": {
      "text/html": [
       "<div>\n",
       "<style scoped>\n",
       "    .dataframe tbody tr th:only-of-type {\n",
       "        vertical-align: middle;\n",
       "    }\n",
       "\n",
       "    .dataframe tbody tr th {\n",
       "        vertical-align: top;\n",
       "    }\n",
       "\n",
       "    .dataframe thead th {\n",
       "        text-align: right;\n",
       "    }\n",
       "</style>\n",
       "<table border=\"1\" class=\"dataframe\">\n",
       "  <thead>\n",
       "    <tr style=\"text-align: right;\">\n",
       "      <th></th>\n",
       "      <th>Duration</th>\n",
       "      <th>Pulse</th>\n",
       "    </tr>\n",
       "  </thead>\n",
       "  <tbody>\n",
       "    <tr>\n",
       "      <th>min</th>\n",
       "      <td>15.000000</td>\n",
       "      <td>80.000000</td>\n",
       "    </tr>\n",
       "    <tr>\n",
       "      <th>max</th>\n",
       "      <td>300.000000</td>\n",
       "      <td>159.000000</td>\n",
       "    </tr>\n",
       "    <tr>\n",
       "      <th>count</th>\n",
       "      <td>169.000000</td>\n",
       "      <td>169.000000</td>\n",
       "    </tr>\n",
       "    <tr>\n",
       "      <th>mean</th>\n",
       "      <td>63.846154</td>\n",
       "      <td>107.461538</td>\n",
       "    </tr>\n",
       "  </tbody>\n",
       "</table>\n",
       "</div>"
      ],
      "text/plain": [
       "         Duration       Pulse\n",
       "min     15.000000   80.000000\n",
       "max    300.000000  159.000000\n",
       "count  169.000000  169.000000\n",
       "mean    63.846154  107.461538"
      ]
     },
     "execution_count": 12,
     "metadata": {},
     "output_type": "execute_result"
    }
   ],
   "source": [
    "data.agg({'Duration':['min','max','count','mean'],'Pulse':['min','max','count','mean']})"
   ]
  },
  {
   "cell_type": "markdown",
   "id": "9f51e871",
   "metadata": {},
   "source": [
    "# 5. Filter the dataframe to select the rows with calories values between 500 and 1000."
   ]
  },
  {
   "cell_type": "code",
   "execution_count": 13,
   "id": "bef480d7",
   "metadata": {
    "scrolled": true
   },
   "outputs": [
    {
     "data": {
      "text/html": [
       "<div>\n",
       "<style scoped>\n",
       "    .dataframe tbody tr th:only-of-type {\n",
       "        vertical-align: middle;\n",
       "    }\n",
       "\n",
       "    .dataframe tbody tr th {\n",
       "        vertical-align: top;\n",
       "    }\n",
       "\n",
       "    .dataframe thead th {\n",
       "        text-align: right;\n",
       "    }\n",
       "</style>\n",
       "<table border=\"1\" class=\"dataframe\">\n",
       "  <thead>\n",
       "    <tr style=\"text-align: right;\">\n",
       "      <th></th>\n",
       "      <th>Duration</th>\n",
       "      <th>Pulse</th>\n",
       "      <th>Maxpulse</th>\n",
       "      <th>Calories</th>\n",
       "    </tr>\n",
       "  </thead>\n",
       "  <tbody>\n",
       "    <tr>\n",
       "      <th>51</th>\n",
       "      <td>80</td>\n",
       "      <td>123</td>\n",
       "      <td>146</td>\n",
       "      <td>643.1</td>\n",
       "    </tr>\n",
       "    <tr>\n",
       "      <th>62</th>\n",
       "      <td>160</td>\n",
       "      <td>109</td>\n",
       "      <td>135</td>\n",
       "      <td>853.0</td>\n",
       "    </tr>\n",
       "    <tr>\n",
       "      <th>65</th>\n",
       "      <td>180</td>\n",
       "      <td>90</td>\n",
       "      <td>130</td>\n",
       "      <td>800.4</td>\n",
       "    </tr>\n",
       "    <tr>\n",
       "      <th>66</th>\n",
       "      <td>150</td>\n",
       "      <td>105</td>\n",
       "      <td>135</td>\n",
       "      <td>873.4</td>\n",
       "    </tr>\n",
       "    <tr>\n",
       "      <th>67</th>\n",
       "      <td>150</td>\n",
       "      <td>107</td>\n",
       "      <td>130</td>\n",
       "      <td>816.0</td>\n",
       "    </tr>\n",
       "    <tr>\n",
       "      <th>72</th>\n",
       "      <td>90</td>\n",
       "      <td>100</td>\n",
       "      <td>127</td>\n",
       "      <td>700.0</td>\n",
       "    </tr>\n",
       "    <tr>\n",
       "      <th>73</th>\n",
       "      <td>150</td>\n",
       "      <td>97</td>\n",
       "      <td>127</td>\n",
       "      <td>953.2</td>\n",
       "    </tr>\n",
       "    <tr>\n",
       "      <th>75</th>\n",
       "      <td>90</td>\n",
       "      <td>98</td>\n",
       "      <td>125</td>\n",
       "      <td>563.2</td>\n",
       "    </tr>\n",
       "    <tr>\n",
       "      <th>78</th>\n",
       "      <td>120</td>\n",
       "      <td>100</td>\n",
       "      <td>130</td>\n",
       "      <td>500.4</td>\n",
       "    </tr>\n",
       "    <tr>\n",
       "      <th>90</th>\n",
       "      <td>180</td>\n",
       "      <td>101</td>\n",
       "      <td>127</td>\n",
       "      <td>600.1</td>\n",
       "    </tr>\n",
       "    <tr>\n",
       "      <th>99</th>\n",
       "      <td>90</td>\n",
       "      <td>93</td>\n",
       "      <td>124</td>\n",
       "      <td>604.1</td>\n",
       "    </tr>\n",
       "    <tr>\n",
       "      <th>103</th>\n",
       "      <td>90</td>\n",
       "      <td>90</td>\n",
       "      <td>100</td>\n",
       "      <td>500.4</td>\n",
       "    </tr>\n",
       "    <tr>\n",
       "      <th>106</th>\n",
       "      <td>180</td>\n",
       "      <td>90</td>\n",
       "      <td>120</td>\n",
       "      <td>800.3</td>\n",
       "    </tr>\n",
       "    <tr>\n",
       "      <th>108</th>\n",
       "      <td>90</td>\n",
       "      <td>90</td>\n",
       "      <td>120</td>\n",
       "      <td>500.3</td>\n",
       "    </tr>\n",
       "  </tbody>\n",
       "</table>\n",
       "</div>"
      ],
      "text/plain": [
       "     Duration  Pulse  Maxpulse  Calories\n",
       "51         80    123       146     643.1\n",
       "62        160    109       135     853.0\n",
       "65        180     90       130     800.4\n",
       "66        150    105       135     873.4\n",
       "67        150    107       130     816.0\n",
       "72         90    100       127     700.0\n",
       "73        150     97       127     953.2\n",
       "75         90     98       125     563.2\n",
       "78        120    100       130     500.4\n",
       "90        180    101       127     600.1\n",
       "99         90     93       124     604.1\n",
       "103        90     90       100     500.4\n",
       "106       180     90       120     800.3\n",
       "108        90     90       120     500.3"
      ]
     },
     "execution_count": 13,
     "metadata": {},
     "output_type": "execute_result"
    }
   ],
   "source": [
    "data.loc[(data['Calories']>500)&(data['Calories']<1000)]"
   ]
  },
  {
   "cell_type": "markdown",
   "id": "dbaa1f1b",
   "metadata": {},
   "source": [
    "# 6. Filter the dataframe to select the rows with calories values > 500 and pulse < 100"
   ]
  },
  {
   "cell_type": "code",
   "execution_count": 14,
   "id": "cb8cdbd5",
   "metadata": {
    "scrolled": true
   },
   "outputs": [
    {
     "data": {
      "text/html": [
       "<div>\n",
       "<style scoped>\n",
       "    .dataframe tbody tr th:only-of-type {\n",
       "        vertical-align: middle;\n",
       "    }\n",
       "\n",
       "    .dataframe tbody tr th {\n",
       "        vertical-align: top;\n",
       "    }\n",
       "\n",
       "    .dataframe thead th {\n",
       "        text-align: right;\n",
       "    }\n",
       "</style>\n",
       "<table border=\"1\" class=\"dataframe\">\n",
       "  <thead>\n",
       "    <tr style=\"text-align: right;\">\n",
       "      <th></th>\n",
       "      <th>Duration</th>\n",
       "      <th>Pulse</th>\n",
       "      <th>Maxpulse</th>\n",
       "      <th>Calories</th>\n",
       "    </tr>\n",
       "  </thead>\n",
       "  <tbody>\n",
       "    <tr>\n",
       "      <th>65</th>\n",
       "      <td>180</td>\n",
       "      <td>90</td>\n",
       "      <td>130</td>\n",
       "      <td>800.4</td>\n",
       "    </tr>\n",
       "    <tr>\n",
       "      <th>70</th>\n",
       "      <td>150</td>\n",
       "      <td>97</td>\n",
       "      <td>129</td>\n",
       "      <td>1115.0</td>\n",
       "    </tr>\n",
       "    <tr>\n",
       "      <th>73</th>\n",
       "      <td>150</td>\n",
       "      <td>97</td>\n",
       "      <td>127</td>\n",
       "      <td>953.2</td>\n",
       "    </tr>\n",
       "    <tr>\n",
       "      <th>75</th>\n",
       "      <td>90</td>\n",
       "      <td>98</td>\n",
       "      <td>125</td>\n",
       "      <td>563.2</td>\n",
       "    </tr>\n",
       "    <tr>\n",
       "      <th>99</th>\n",
       "      <td>90</td>\n",
       "      <td>93</td>\n",
       "      <td>124</td>\n",
       "      <td>604.1</td>\n",
       "    </tr>\n",
       "    <tr>\n",
       "      <th>103</th>\n",
       "      <td>90</td>\n",
       "      <td>90</td>\n",
       "      <td>100</td>\n",
       "      <td>500.4</td>\n",
       "    </tr>\n",
       "    <tr>\n",
       "      <th>106</th>\n",
       "      <td>180</td>\n",
       "      <td>90</td>\n",
       "      <td>120</td>\n",
       "      <td>800.3</td>\n",
       "    </tr>\n",
       "    <tr>\n",
       "      <th>108</th>\n",
       "      <td>90</td>\n",
       "      <td>90</td>\n",
       "      <td>120</td>\n",
       "      <td>500.3</td>\n",
       "    </tr>\n",
       "  </tbody>\n",
       "</table>\n",
       "</div>"
      ],
      "text/plain": [
       "     Duration  Pulse  Maxpulse  Calories\n",
       "65        180     90       130     800.4\n",
       "70        150     97       129    1115.0\n",
       "73        150     97       127     953.2\n",
       "75         90     98       125     563.2\n",
       "99         90     93       124     604.1\n",
       "103        90     90       100     500.4\n",
       "106       180     90       120     800.3\n",
       "108        90     90       120     500.3"
      ]
     },
     "execution_count": 14,
     "metadata": {},
     "output_type": "execute_result"
    }
   ],
   "source": [
    "data.loc[(data['Calories']>500)&(data['Pulse']<100)]"
   ]
  },
  {
   "cell_type": "markdown",
   "id": "1e8c8708",
   "metadata": {},
   "source": [
    "# 7. Create a new “df_modified” dataframe that contains all the columns from df except for “Maxpulse”"
   ]
  },
  {
   "cell_type": "code",
   "execution_count": 15,
   "id": "dc9517b1",
   "metadata": {},
   "outputs": [
    {
     "data": {
      "text/html": [
       "<div>\n",
       "<style scoped>\n",
       "    .dataframe tbody tr th:only-of-type {\n",
       "        vertical-align: middle;\n",
       "    }\n",
       "\n",
       "    .dataframe tbody tr th {\n",
       "        vertical-align: top;\n",
       "    }\n",
       "\n",
       "    .dataframe thead th {\n",
       "        text-align: right;\n",
       "    }\n",
       "</style>\n",
       "<table border=\"1\" class=\"dataframe\">\n",
       "  <thead>\n",
       "    <tr style=\"text-align: right;\">\n",
       "      <th></th>\n",
       "      <th>Duration</th>\n",
       "      <th>Pulse</th>\n",
       "      <th>Calories</th>\n",
       "    </tr>\n",
       "  </thead>\n",
       "  <tbody>\n",
       "    <tr>\n",
       "      <th>0</th>\n",
       "      <td>60</td>\n",
       "      <td>110</td>\n",
       "      <td>409.1</td>\n",
       "    </tr>\n",
       "    <tr>\n",
       "      <th>1</th>\n",
       "      <td>60</td>\n",
       "      <td>117</td>\n",
       "      <td>479.0</td>\n",
       "    </tr>\n",
       "    <tr>\n",
       "      <th>2</th>\n",
       "      <td>60</td>\n",
       "      <td>103</td>\n",
       "      <td>340.0</td>\n",
       "    </tr>\n",
       "    <tr>\n",
       "      <th>3</th>\n",
       "      <td>45</td>\n",
       "      <td>109</td>\n",
       "      <td>282.4</td>\n",
       "    </tr>\n",
       "    <tr>\n",
       "      <th>4</th>\n",
       "      <td>45</td>\n",
       "      <td>117</td>\n",
       "      <td>406.0</td>\n",
       "    </tr>\n",
       "  </tbody>\n",
       "</table>\n",
       "</div>"
      ],
      "text/plain": [
       "   Duration  Pulse  Calories\n",
       "0        60    110     409.1\n",
       "1        60    117     479.0\n",
       "2        60    103     340.0\n",
       "3        45    109     282.4\n",
       "4        45    117     406.0"
      ]
     },
     "execution_count": 15,
     "metadata": {},
     "output_type": "execute_result"
    }
   ],
   "source": [
    "df_modified = data[['Duration','Pulse','Calories']]\n",
    "df_modified.head()"
   ]
  },
  {
   "cell_type": "markdown",
   "id": "7b621246",
   "metadata": {},
   "source": [
    "# 8. Delete the “Maxpulse” column from the main df dataframe"
   ]
  },
  {
   "cell_type": "code",
   "execution_count": 16,
   "id": "51a884dd",
   "metadata": {},
   "outputs": [],
   "source": [
    "del data['Maxpulse']"
   ]
  },
  {
   "cell_type": "code",
   "execution_count": 17,
   "id": "018d2257",
   "metadata": {},
   "outputs": [
    {
     "data": {
      "text/html": [
       "<div>\n",
       "<style scoped>\n",
       "    .dataframe tbody tr th:only-of-type {\n",
       "        vertical-align: middle;\n",
       "    }\n",
       "\n",
       "    .dataframe tbody tr th {\n",
       "        vertical-align: top;\n",
       "    }\n",
       "\n",
       "    .dataframe thead th {\n",
       "        text-align: right;\n",
       "    }\n",
       "</style>\n",
       "<table border=\"1\" class=\"dataframe\">\n",
       "  <thead>\n",
       "    <tr style=\"text-align: right;\">\n",
       "      <th></th>\n",
       "      <th>Duration</th>\n",
       "      <th>Pulse</th>\n",
       "      <th>Calories</th>\n",
       "    </tr>\n",
       "  </thead>\n",
       "  <tbody>\n",
       "    <tr>\n",
       "      <th>0</th>\n",
       "      <td>60</td>\n",
       "      <td>110</td>\n",
       "      <td>409.1</td>\n",
       "    </tr>\n",
       "    <tr>\n",
       "      <th>1</th>\n",
       "      <td>60</td>\n",
       "      <td>117</td>\n",
       "      <td>479.0</td>\n",
       "    </tr>\n",
       "    <tr>\n",
       "      <th>2</th>\n",
       "      <td>60</td>\n",
       "      <td>103</td>\n",
       "      <td>340.0</td>\n",
       "    </tr>\n",
       "    <tr>\n",
       "      <th>3</th>\n",
       "      <td>45</td>\n",
       "      <td>109</td>\n",
       "      <td>282.4</td>\n",
       "    </tr>\n",
       "    <tr>\n",
       "      <th>4</th>\n",
       "      <td>45</td>\n",
       "      <td>117</td>\n",
       "      <td>406.0</td>\n",
       "    </tr>\n",
       "  </tbody>\n",
       "</table>\n",
       "</div>"
      ],
      "text/plain": [
       "   Duration  Pulse  Calories\n",
       "0        60    110     409.1\n",
       "1        60    117     479.0\n",
       "2        60    103     340.0\n",
       "3        45    109     282.4\n",
       "4        45    117     406.0"
      ]
     },
     "execution_count": 17,
     "metadata": {},
     "output_type": "execute_result"
    }
   ],
   "source": [
    "data.head()"
   ]
  },
  {
   "cell_type": "markdown",
   "id": "21977641",
   "metadata": {},
   "source": [
    "# 9. Convert the datatype of Calories column to int datatype."
   ]
  },
  {
   "cell_type": "code",
   "execution_count": 18,
   "id": "61e3ba95",
   "metadata": {},
   "outputs": [
    {
     "data": {
      "text/plain": [
       "Duration      int64\n",
       "Pulse         int64\n",
       "Calories    float64\n",
       "dtype: object"
      ]
     },
     "execution_count": 18,
     "metadata": {},
     "output_type": "execute_result"
    }
   ],
   "source": [
    "data.dtypes"
   ]
  },
  {
   "cell_type": "code",
   "execution_count": 19,
   "id": "136065ff",
   "metadata": {},
   "outputs": [
    {
     "data": {
      "text/plain": [
       "Duration    int64\n",
       "Pulse       int64\n",
       "Calories    int64\n",
       "dtype: object"
      ]
     },
     "execution_count": 19,
     "metadata": {},
     "output_type": "execute_result"
    }
   ],
   "source": [
    "data['Calories'] = data['Calories'].astype(np.int64)\n",
    "data.dtypes"
   ]
  },
  {
   "cell_type": "markdown",
   "id": "9ca11867",
   "metadata": {},
   "source": [
    "# 10. Using pandas create a scatter plot for the two columns (Duration and Calories)."
   ]
  },
  {
   "cell_type": "code",
   "execution_count": 20,
   "id": "2faeb721",
   "metadata": {},
   "outputs": [
    {
     "data": {
      "text/plain": [
       "<AxesSubplot:xlabel='Duration', ylabel='Calories'>"
      ]
     },
     "execution_count": 20,
     "metadata": {},
     "output_type": "execute_result"
    },
    {
     "data": {
      "image/png": "[encoded data removed]",
      "text/plain": [
       "<Figure size 432x288 with 1 Axes>"
      ]
     },
     "metadata": {
      "needs_background": "light"
     },
     "output_type": "display_data"
    }
   ],
   "source": [
    "data.plot.scatter(x='Duration',y='Calories',c='DarkBlue')"
   ]
  },
  {
   "cell_type": "markdown",
   "id": "24de3438",
   "metadata": {},
   "source": [
    "# 1. (Titanic Dataset)\n",
    "1. Find the correlation between ‘survived’ (target column) and ‘sex’ column for the Titanic use case inclass"
   ]
  },
  {
   "cell_type": "code",
   "execution_count": 21,
   "id": "63a15ef3",
   "metadata": {},
   "outputs": [],
   "source": [
    "import pandas as pd\n",
    "import seaborn as sns\n",
    "from sklearn import preprocessing\n",
    "import matplotlib.pyplot as plt"
   ]
  },
  {
   "cell_type": "code",
   "execution_count": 22,
   "id": "48e9115d",
   "metadata": {
    "scrolled": true
   },
   "outputs": [],
   "source": [
    "df=pd.read_csv(\"train.csv\")"
   ]
  },
  {
   "cell_type": "code",
   "execution_count": 23,
   "id": "d2a65474",
   "metadata": {},
   "outputs": [
    {
     "data": {
      "text/html": [
       "<div>\n",
       "<style scoped>\n",
       "    .dataframe tbody tr th:only-of-type {\n",
       "        vertical-align: middle;\n",
       "    }\n",
       "\n",
       "    .dataframe tbody tr th {\n",
       "        vertical-align: top;\n",
       "    }\n",
       "\n",
       "    .dataframe thead th {\n",
       "        text-align: right;\n",
       "    }\n",
       "</style>\n",
       "<table border=\"1\" class=\"dataframe\">\n",
       "  <thead>\n",
       "    <tr style=\"text-align: right;\">\n",
       "      <th></th>\n",
       "      <th>PassengerId</th>\n",
       "      <th>Survived</th>\n",
       "      <th>Pclass</th>\n",
       "      <th>Name</th>\n",
       "      <th>Sex</th>\n",
       "      <th>Age</th>\n",
       "      <th>SibSp</th>\n",
       "      <th>Parch</th>\n",
       "      <th>Ticket</th>\n",
       "      <th>Fare</th>\n",
       "      <th>Cabin</th>\n",
       "      <th>Embarked</th>\n",
       "    </tr>\n",
       "  </thead>\n",
       "  <tbody>\n",
       "    <tr>\n",
       "      <th>0</th>\n",
       "      <td>1</td>\n",
       "      <td>0</td>\n",
       "      <td>3</td>\n",
       "      <td>Braund, Mr. Owen Harris</td>\n",
       "      <td>male</td>\n",
       "      <td>22.0</td>\n",
       "      <td>1</td>\n",
       "      <td>0</td>\n",
       "      <td>A/5 21171</td>\n",
       "      <td>7.2500</td>\n",
       "      <td>NaN</td>\n",
       "      <td>S</td>\n",
       "    </tr>\n",
       "    <tr>\n",
       "      <th>1</th>\n",
       "      <td>2</td>\n",
       "      <td>1</td>\n",
       "      <td>1</td>\n",
       "      <td>Cumings, Mrs. John Bradley (Florence Briggs Th...</td>\n",
       "      <td>female</td>\n",
       "      <td>38.0</td>\n",
       "      <td>1</td>\n",
       "      <td>0</td>\n",
       "      <td>PC 17599</td>\n",
       "      <td>71.2833</td>\n",
       "      <td>C85</td>\n",
       "      <td>C</td>\n",
       "    </tr>\n",
       "    <tr>\n",
       "      <th>2</th>\n",
       "      <td>3</td>\n",
       "      <td>1</td>\n",
       "      <td>3</td>\n",
       "      <td>Heikkinen, Miss. Laina</td>\n",
       "      <td>female</td>\n",
       "      <td>26.0</td>\n",
       "      <td>0</td>\n",
       "      <td>0</td>\n",
       "      <td>STON/O2. 3101282</td>\n",
       "      <td>7.9250</td>\n",
       "      <td>NaN</td>\n",
       "      <td>S</td>\n",
       "    </tr>\n",
       "    <tr>\n",
       "      <th>3</th>\n",
       "      <td>4</td>\n",
       "      <td>1</td>\n",
       "      <td>1</td>\n",
       "      <td>Futrelle, Mrs. Jacques Heath (Lily May Peel)</td>\n",
       "      <td>female</td>\n",
       "      <td>35.0</td>\n",
       "      <td>1</td>\n",
       "      <td>0</td>\n",
       "      <td>113803</td>\n",
       "      <td>53.1000</td>\n",
       "      <td>C123</td>\n",
       "      <td>S</td>\n",
       "    </tr>\n",
       "    <tr>\n",
       "      <th>4</th>\n",
       "      <td>5</td>\n",
       "      <td>0</td>\n",
       "      <td>3</td>\n",
       "      <td>Allen, Mr. William Henry</td>\n",
       "      <td>male</td>\n",
       "      <td>35.0</td>\n",
       "      <td>0</td>\n",
       "      <td>0</td>\n",
       "      <td>373450</td>\n",
       "      <td>8.0500</td>\n",
       "      <td>NaN</td>\n",
       "      <td>S</td>\n",
       "    </tr>\n",
       "  </tbody>\n",
       "</table>\n",
       "</div>"
      ],
      "text/plain": [
       "   PassengerId  Survived  Pclass  \\\n",
       "0            1         0       3   \n",
       "1            2         1       1   \n",
       "2            3         1       3   \n",
       "3            4         1       1   \n",
       "4            5         0       3   \n",
       "\n",
       "                                                Name     Sex   Age  SibSp  \\\n",
       "0                            Braund, Mr. Owen Harris    male  22.0      1   \n",
       "1  Cumings, Mrs. John Bradley (Florence Briggs Th...  female  38.0      1   \n",
       "2                             Heikkinen, Miss. Laina  female  26.0      0   \n",
       "3       Futrelle, Mrs. Jacques Heath (Lily May Peel)  female  35.0      1   \n",
       "4                           Allen, Mr. William Henry    male  35.0      0   \n",
       "\n",
       "   Parch            Ticket     Fare Cabin Embarked  \n",
       "0      0         A/5 21171   7.2500   NaN        S  \n",
       "1      0          PC 17599  71.2833   C85        C  \n",
       "2      0  STON/O2. 3101282   7.9250   NaN        S  \n",
       "3      0            113803  53.1000  C123        S  \n",
       "4      0            373450   8.0500   NaN        S  "
      ]
     },
     "execution_count": 23,
     "metadata": {},
     "output_type": "execute_result"
    }
   ],
   "source": [
    "df.head()"
   ]
  },
  {
   "cell_type": "code",
   "execution_count": 24,
   "id": "b392c683",
   "metadata": {},
   "outputs": [
    {
     "data": {
      "text/plain": [
       "-0.543351380657755"
      ]
     },
     "execution_count": 24,
     "metadata": {},
     "output_type": "execute_result"
    }
   ],
   "source": [
    "le = preprocessing.LabelEncoder()\n",
    "df['Sex'] = le.fit_transform(df.Sex.values)\n",
    "df['Survived'].corr(df['Sex'])"
   ]
  },
  {
   "cell_type": "markdown",
   "id": "9e09ddc8",
   "metadata": {},
   "source": [
    "# a. Do you think we should keep this feature?"
   ]
  },
  {
   "cell_type": "markdown",
   "id": "141107f8",
   "metadata": {},
   "source": [
    "A negative (inverse) correlation occurs when the correlation coefficient is less than 0. This is an indication that both variables move in the opposite direction. In short, any reading between 0 and -1 means that the two securities move in opposite directions. If one variable increases, the other variable decreases with the same magnitude (and vice versa). However, the degree to which two securities are negatively correlated might vary over time (and they are almost never exactly correlated all the time). Removing a correlated feature does not make any difference in the outcome of the model. It is always better to remove the highly correlated features first and then least correlated ones."
   ]
  },
  {
   "cell_type": "markdown",
   "id": "7fb5549d",
   "metadata": {},
   "source": [
    "# 2. Do at least two visualizations to describe or show correlations."
   ]
  },
  {
   "cell_type": "code",
   "execution_count": 25,
   "id": "c81adb37",
   "metadata": {},
   "outputs": [
    {
     "data": {
      "text/html": [
       "<style type=\"text/css\">\n",
       "#T_2b458_row0_col0, #T_2b458_row1_col1, #T_2b458_row2_col2, #T_2b458_row3_col3, #T_2b458_row4_col4, #T_2b458_row5_col5, #T_2b458_row6_col6, #T_2b458_row7_col7 {\n",
       "  background-color: #00441b;\n",
       "  color: #f1f1f1;\n",
       "}\n",
       "#T_2b458_row0_col1 {\n",
       "  background-color: #a9dca3;\n",
       "  color: #000000;\n",
       "}\n",
       "#T_2b458_row0_col2, #T_2b458_row5_col1 {\n",
       "  background-color: #afdfa8;\n",
       "  color: #000000;\n",
       "}\n",
       "#T_2b458_row0_col3 {\n",
       "  background-color: #9fd899;\n",
       "  color: #000000;\n",
       "}\n",
       "#T_2b458_row0_col4 {\n",
       "  background-color: #bae3b3;\n",
       "  color: #000000;\n",
       "}\n",
       "#T_2b458_row0_col5, #T_2b458_row6_col3 {\n",
       "  background-color: #d5efcf;\n",
       "  color: #000000;\n",
       "}\n",
       "#T_2b458_row0_col6 {\n",
       "  background-color: #d4eece;\n",
       "  color: #000000;\n",
       "}\n",
       "#T_2b458_row0_col7 {\n",
       "  background-color: #a5db9f;\n",
       "  color: #000000;\n",
       "}\n",
       "#T_2b458_row1_col0 {\n",
       "  background-color: #f0f9ed;\n",
       "  color: #000000;\n",
       "}\n",
       "#T_2b458_row1_col2 {\n",
       "  background-color: #e3f4de;\n",
       "  color: #000000;\n",
       "}\n",
       "#T_2b458_row1_col3, #T_2b458_row2_col4, #T_2b458_row2_col7, #T_2b458_row3_col1, #T_2b458_row3_col6, #T_2b458_row4_col5, #T_2b458_row5_col0, #T_2b458_row7_col2 {\n",
       "  background-color: #f7fcf5;\n",
       "  color: #000000;\n",
       "}\n",
       "#T_2b458_row1_col4, #T_2b458_row2_col6 {\n",
       "  background-color: #d0edca;\n",
       "  color: #000000;\n",
       "}\n",
       "#T_2b458_row1_col5 {\n",
       "  background-color: #d1edcb;\n",
       "  color: #000000;\n",
       "}\n",
       "#T_2b458_row1_col6 {\n",
       "  background-color: #c3e7bc;\n",
       "  color: #000000;\n",
       "}\n",
       "#T_2b458_row1_col7 {\n",
       "  background-color: #6bc072;\n",
       "  color: #000000;\n",
       "}\n",
       "#T_2b458_row2_col0 {\n",
       "  background-color: #f4fbf2;\n",
       "  color: #000000;\n",
       "}\n",
       "#T_2b458_row2_col1, #T_2b458_row6_col4 {\n",
       "  background-color: #e4f5df;\n",
       "  color: #000000;\n",
       "}\n",
       "#T_2b458_row2_col3, #T_2b458_row3_col2 {\n",
       "  background-color: #8ace88;\n",
       "  color: #000000;\n",
       "}\n",
       "#T_2b458_row2_col5 {\n",
       "  background-color: #b8e3b2;\n",
       "  color: #000000;\n",
       "}\n",
       "#T_2b458_row3_col0 {\n",
       "  background-color: #e9f7e5;\n",
       "  color: #000000;\n",
       "}\n",
       "#T_2b458_row3_col4, #T_2b458_row7_col4 {\n",
       "  background-color: #acdea6;\n",
       "  color: #000000;\n",
       "}\n",
       "#T_2b458_row3_col5 {\n",
       "  background-color: #e0f3db;\n",
       "  color: #000000;\n",
       "}\n",
       "#T_2b458_row3_col7 {\n",
       "  background-color: #cbeac4;\n",
       "  color: #000000;\n",
       "}\n",
       "#T_2b458_row4_col0 {\n",
       "  background-color: #ebf7e7;\n",
       "  color: #000000;\n",
       "}\n",
       "#T_2b458_row4_col1 {\n",
       "  background-color: #b7e2b1;\n",
       "  color: #000000;\n",
       "}\n",
       "#T_2b458_row4_col2 {\n",
       "  background-color: #e7f6e2;\n",
       "  color: #000000;\n",
       "}\n",
       "#T_2b458_row4_col3 {\n",
       "  background-color: #94d390;\n",
       "  color: #000000;\n",
       "}\n",
       "#T_2b458_row4_col6, #T_2b458_row5_col4 {\n",
       "  background-color: #f1faee;\n",
       "  color: #000000;\n",
       "}\n",
       "#T_2b458_row4_col7 {\n",
       "  background-color: #92d28f;\n",
       "  color: #000000;\n",
       "}\n",
       "#T_2b458_row5_col2 {\n",
       "  background-color: #95d391;\n",
       "  color: #000000;\n",
       "}\n",
       "#T_2b458_row5_col3 {\n",
       "  background-color: #bee5b8;\n",
       "  color: #000000;\n",
       "}\n",
       "#T_2b458_row5_col6 {\n",
       "  background-color: #68be70;\n",
       "  color: #000000;\n",
       "}\n",
       "#T_2b458_row5_col7 {\n",
       "  background-color: #83cb82;\n",
       "  color: #000000;\n",
       "}\n",
       "#T_2b458_row6_col0 {\n",
       "  background-color: #f0f9ec;\n",
       "  color: #000000;\n",
       "}\n",
       "#T_2b458_row6_col1 {\n",
       "  background-color: #97d492;\n",
       "  color: #000000;\n",
       "}\n",
       "#T_2b458_row6_col2 {\n",
       "  background-color: #a4da9e;\n",
       "  color: #000000;\n",
       "}\n",
       "#T_2b458_row6_col5 {\n",
       "  background-color: #5eb96b;\n",
       "  color: #f1f1f1;\n",
       "}\n",
       "#T_2b458_row6_col7 {\n",
       "  background-color: #76c578;\n",
       "  color: #000000;\n",
       "}\n",
       "#T_2b458_row7_col0 {\n",
       "  background-color: #eef8ea;\n",
       "  color: #000000;\n",
       "}\n",
       "#T_2b458_row7_col1 {\n",
       "  background-color: #6dc072;\n",
       "  color: #000000;\n",
       "}\n",
       "#T_2b458_row7_col3 {\n",
       "  background-color: #cbebc5;\n",
       "  color: #000000;\n",
       "}\n",
       "#T_2b458_row7_col5 {\n",
       "  background-color: #a7dba0;\n",
       "  color: #000000;\n",
       "}\n",
       "#T_2b458_row7_col6 {\n",
       "  background-color: #a3da9d;\n",
       "  color: #000000;\n",
       "}\n",
       "</style>\n",
       "<table id=\"T_2b458\">\n",
       "  <thead>\n",
       "    <tr>\n",
       "      <th class=\"blank level0\" >&nbsp;</th>\n",
       "      <th id=\"T_2b458_level0_col0\" class=\"col_heading level0 col0\" >PassengerId</th>\n",
       "      <th id=\"T_2b458_level0_col1\" class=\"col_heading level0 col1\" >Survived</th>\n",
       "      <th id=\"T_2b458_level0_col2\" class=\"col_heading level0 col2\" >Pclass</th>\n",
       "      <th id=\"T_2b458_level0_col3\" class=\"col_heading level0 col3\" >Sex</th>\n",
       "      <th id=\"T_2b458_level0_col4\" class=\"col_heading level0 col4\" >Age</th>\n",
       "      <th id=\"T_2b458_level0_col5\" class=\"col_heading level0 col5\" >SibSp</th>\n",
       "      <th id=\"T_2b458_level0_col6\" class=\"col_heading level0 col6\" >Parch</th>\n",
       "      <th id=\"T_2b458_level0_col7\" class=\"col_heading level0 col7\" >Fare</th>\n",
       "    </tr>\n",
       "  </thead>\n",
       "  <tbody>\n",
       "    <tr>\n",
       "      <th id=\"T_2b458_level0_row0\" class=\"row_heading level0 row0\" >PassengerId</th>\n",
       "      <td id=\"T_2b458_row0_col0\" class=\"data row0 col0\" >1.000000</td>\n",
       "      <td id=\"T_2b458_row0_col1\" class=\"data row0 col1\" >-0.005007</td>\n",
       "      <td id=\"T_2b458_row0_col2\" class=\"data row0 col2\" >-0.035144</td>\n",
       "      <td id=\"T_2b458_row0_col3\" class=\"data row0 col3\" >0.042939</td>\n",
       "      <td id=\"T_2b458_row0_col4\" class=\"data row0 col4\" >0.036847</td>\n",
       "      <td id=\"T_2b458_row0_col5\" class=\"data row0 col5\" >-0.057527</td>\n",
       "      <td id=\"T_2b458_row0_col6\" class=\"data row0 col6\" >-0.001652</td>\n",
       "      <td id=\"T_2b458_row0_col7\" class=\"data row0 col7\" >0.012658</td>\n",
       "    </tr>\n",
       "    <tr>\n",
       "      <th id=\"T_2b458_level0_row1\" class=\"row_heading level0 row1\" >Survived</th>\n",
       "      <td id=\"T_2b458_row1_col0\" class=\"data row1 col0\" >-0.005007</td>\n",
       "      <td id=\"T_2b458_row1_col1\" class=\"data row1 col1\" >1.000000</td>\n",
       "      <td id=\"T_2b458_row1_col2\" class=\"data row1 col2\" >-0.338481</td>\n",
       "      <td id=\"T_2b458_row1_col3\" class=\"data row1 col3\" >-0.543351</td>\n",
       "      <td id=\"T_2b458_row1_col4\" class=\"data row1 col4\" >-0.077221</td>\n",
       "      <td id=\"T_2b458_row1_col5\" class=\"data row1 col5\" >-0.035322</td>\n",
       "      <td id=\"T_2b458_row1_col6\" class=\"data row1 col6\" >0.081629</td>\n",
       "      <td id=\"T_2b458_row1_col7\" class=\"data row1 col7\" >0.257307</td>\n",
       "    </tr>\n",
       "    <tr>\n",
       "      <th id=\"T_2b458_level0_row2\" class=\"row_heading level0 row2\" >Pclass</th>\n",
       "      <td id=\"T_2b458_row2_col0\" class=\"data row2 col0\" >-0.035144</td>\n",
       "      <td id=\"T_2b458_row2_col1\" class=\"data row2 col1\" >-0.338481</td>\n",
       "      <td id=\"T_2b458_row2_col2\" class=\"data row2 col2\" >1.000000</td>\n",
       "      <td id=\"T_2b458_row2_col3\" class=\"data row2 col3\" >0.131900</td>\n",
       "      <td id=\"T_2b458_row2_col4\" class=\"data row2 col4\" >-0.369226</td>\n",
       "      <td id=\"T_2b458_row2_col5\" class=\"data row2 col5\" >0.083081</td>\n",
       "      <td id=\"T_2b458_row2_col6\" class=\"data row2 col6\" >0.018443</td>\n",
       "      <td id=\"T_2b458_row2_col7\" class=\"data row2 col7\" >-0.549500</td>\n",
       "    </tr>\n",
       "    <tr>\n",
       "      <th id=\"T_2b458_level0_row3\" class=\"row_heading level0 row3\" >Sex</th>\n",
       "      <td id=\"T_2b458_row3_col0\" class=\"data row3 col0\" >0.042939</td>\n",
       "      <td id=\"T_2b458_row3_col1\" class=\"data row3 col1\" >-0.543351</td>\n",
       "      <td id=\"T_2b458_row3_col2\" class=\"data row3 col2\" >0.131900</td>\n",
       "      <td id=\"T_2b458_row3_col3\" class=\"data row3 col3\" >1.000000</td>\n",
       "      <td id=\"T_2b458_row3_col4\" class=\"data row3 col4\" >0.093254</td>\n",
       "      <td id=\"T_2b458_row3_col5\" class=\"data row3 col5\" >-0.114631</td>\n",
       "      <td id=\"T_2b458_row3_col6\" class=\"data row3 col6\" >-0.245489</td>\n",
       "      <td id=\"T_2b458_row3_col7\" class=\"data row3 col7\" >-0.182333</td>\n",
       "    </tr>\n",
       "    <tr>\n",
       "      <th id=\"T_2b458_level0_row4\" class=\"row_heading level0 row4\" >Age</th>\n",
       "      <td id=\"T_2b458_row4_col0\" class=\"data row4 col0\" >0.036847</td>\n",
       "      <td id=\"T_2b458_row4_col1\" class=\"data row4 col1\" >-0.077221</td>\n",
       "      <td id=\"T_2b458_row4_col2\" class=\"data row4 col2\" >-0.369226</td>\n",
       "      <td id=\"T_2b458_row4_col3\" class=\"data row4 col3\" >0.093254</td>\n",
       "      <td id=\"T_2b458_row4_col4\" class=\"data row4 col4\" >1.000000</td>\n",
       "      <td id=\"T_2b458_row4_col5\" class=\"data row4 col5\" >-0.308247</td>\n",
       "      <td id=\"T_2b458_row4_col6\" class=\"data row4 col6\" >-0.189119</td>\n",
       "      <td id=\"T_2b458_row4_col7\" class=\"data row4 col7\" >0.096067</td>\n",
       "    </tr>\n",
       "    <tr>\n",
       "      <th id=\"T_2b458_level0_row5\" class=\"row_heading level0 row5\" >SibSp</th>\n",
       "      <td id=\"T_2b458_row5_col0\" class=\"data row5 col0\" >-0.057527</td>\n",
       "      <td id=\"T_2b458_row5_col1\" class=\"data row5 col1\" >-0.035322</td>\n",
       "      <td id=\"T_2b458_row5_col2\" class=\"data row5 col2\" >0.083081</td>\n",
       "      <td id=\"T_2b458_row5_col3\" class=\"data row5 col3\" >-0.114631</td>\n",
       "      <td id=\"T_2b458_row5_col4\" class=\"data row5 col4\" >-0.308247</td>\n",
       "      <td id=\"T_2b458_row5_col5\" class=\"data row5 col5\" >1.000000</td>\n",
       "      <td id=\"T_2b458_row5_col6\" class=\"data row5 col6\" >0.414838</td>\n",
       "      <td id=\"T_2b458_row5_col7\" class=\"data row5 col7\" >0.159651</td>\n",
       "    </tr>\n",
       "    <tr>\n",
       "      <th id=\"T_2b458_level0_row6\" class=\"row_heading level0 row6\" >Parch</th>\n",
       "      <td id=\"T_2b458_row6_col0\" class=\"data row6 col0\" >-0.001652</td>\n",
       "      <td id=\"T_2b458_row6_col1\" class=\"data row6 col1\" >0.081629</td>\n",
       "      <td id=\"T_2b458_row6_col2\" class=\"data row6 col2\" >0.018443</td>\n",
       "      <td id=\"T_2b458_row6_col3\" class=\"data row6 col3\" >-0.245489</td>\n",
       "      <td id=\"T_2b458_row6_col4\" class=\"data row6 col4\" >-0.189119</td>\n",
       "      <td id=\"T_2b458_row6_col5\" class=\"data row6 col5\" >0.414838</td>\n",
       "      <td id=\"T_2b458_row6_col6\" class=\"data row6 col6\" >1.000000</td>\n",
       "      <td id=\"T_2b458_row6_col7\" class=\"data row6 col7\" >0.216225</td>\n",
       "    </tr>\n",
       "    <tr>\n",
       "      <th id=\"T_2b458_level0_row7\" class=\"row_heading level0 row7\" >Fare</th>\n",
       "      <td id=\"T_2b458_row7_col0\" class=\"data row7 col0\" >0.012658</td>\n",
       "      <td id=\"T_2b458_row7_col1\" class=\"data row7 col1\" >0.257307</td>\n",
       "      <td id=\"T_2b458_row7_col2\" class=\"data row7 col2\" >-0.549500</td>\n",
       "      <td id=\"T_2b458_row7_col3\" class=\"data row7 col3\" >-0.182333</td>\n",
       "      <td id=\"T_2b458_row7_col4\" class=\"data row7 col4\" >0.096067</td>\n",
       "      <td id=\"T_2b458_row7_col5\" class=\"data row7 col5\" >0.159651</td>\n",
       "      <td id=\"T_2b458_row7_col6\" class=\"data row7 col6\" >0.216225</td>\n",
       "      <td id=\"T_2b458_row7_col7\" class=\"data row7 col7\" >1.000000</td>\n",
       "    </tr>\n",
       "  </tbody>\n",
       "</table>\n"
      ],
      "text/plain": [
       "<pandas.io.formats.style.Styler at 0x125fd8c40>"
      ]
     },
     "execution_count": 25,
     "metadata": {},
     "output_type": "execute_result"
    }
   ],
   "source": [
    "des=df.corr()\n",
    "df.corr().style.background_gradient(cmap=\"Greens\")"
   ]
  },
  {
   "cell_type": "code",
   "execution_count": 26,
   "id": "dfe0bd60",
   "metadata": {},
   "outputs": [
    {
     "data": {
      "text/plain": [
       "<AxesSubplot:>"
      ]
     },
     "execution_count": 26,
     "metadata": {},
     "output_type": "execute_result"
    },
    {
     "data": {
      "image/png": "[encoded data removed]",
      "text/plain": [
       "<Figure size 432x288 with 1 Axes>"
      ]
     },
     "metadata": {
      "needs_background": "light"
     },
     "output_type": "display_data"
    }
   ],
   "source": [
    "sns.barplot(data=des) #BarPlot Visualization for above dataset"
   ]
  },
  {
   "cell_type": "code",
   "execution_count": 27,
   "id": "1fe4d3a4",
   "metadata": {},
   "outputs": [
    {
     "data": {
      "text/plain": [
       "<AxesSubplot:ylabel='Count'>"
      ]
     },
     "execution_count": 27,
     "metadata": {},
     "output_type": "execute_result"
    },
    {
     "data": {
      "image/png": "[encoded data removed]",
      "text/plain": [
       "<Figure size 432x288 with 1 Axes>"
      ]
     },
     "metadata": {
      "needs_background": "light"
     },
     "output_type": "display_data"
    }
   ],
   "source": [
    "sns.histplot(data=des) #Histogram Visualization for above dataset"
   ]
  },
  {
   "cell_type": "markdown",
   "id": "aec82765",
   "metadata": {},
   "source": [
    "# 3. Implement Naïve Bayes method using scikit-learn library and report the accuracy."
   ]
  },
  {
   "cell_type": "code",
   "execution_count": 35,
   "id": "f04787d6",
   "metadata": {},
   "outputs": [],
   "source": [
    "train_raw = pd.read_csv('train.csv')\n",
    "test_raw = pd.read_csv('test.csv')\n",
    "\n",
    "# Join data to analyse and process the set as one.\n",
    "train_raw['train'] = 1\n",
    "test_raw['train'] = 0\n",
    "df = train_raw.append(test_raw, sort=False)\n",
    "\n",
    "features = ['Age', 'Embarked', 'Fare', 'Parch', 'Pclass', 'Sex', 'SibSp']\n",
    "target = 'Survived'\n",
    "\n",
    "df = df[features + [target] + ['train']]\n",
    "# Categorical values need to be transformed into numeric.\n",
    "df['Sex'] = df['Sex'].replace([\"female\", \"male\"], [0, 1])\n",
    "df['Embarked'] = df['Embarked'].replace(['S', 'C', 'Q'], [1, 2, 3])\n",
    "train = df.query('train == 1')\n",
    "test = df.query('train == 0')"
   ]
  },
  {
   "cell_type": "code",
   "execution_count": 36,
   "id": "c9054a60",
   "metadata": {},
   "outputs": [],
   "source": [
    "# Drop missing values from the train set.\n",
    "train.dropna(axis=0, inplace=True)\n",
    "labels = train[target].values\n",
    "\n",
    "train.drop(['train', target, 'Pclass'], axis=1, inplace=True)\n",
    "test.drop(['train', target, 'Pclass'], axis=1, inplace=True)"
   ]
  },
  {
   "cell_type": "code",
   "execution_count": 37,
   "id": "88a8d0ce",
   "metadata": {},
   "outputs": [],
   "source": [
    "from sklearn.model_selection import train_test_split, cross_validate\n",
    "\n",
    "X_train, X_val, Y_train, Y_val = train_test_split(train, labels, test_size=0.2, random_state=1)"
   ]
  },
  {
   "cell_type": "code",
   "execution_count": 38,
   "id": "e6e3a2b0",
   "metadata": {},
   "outputs": [],
   "source": [
    "import warnings\n",
    "import numpy as np\n",
    "import pandas as pd\n",
    "import seaborn as sns\n",
    "import matplotlib.pyplot as plt\n",
    "from scipy.stats.stats import pearsonr\n",
    "from sklearn.naive_bayes import GaussianNB\n",
    "from sklearn.model_selection import train_test_split\n",
    "from sklearn.metrics import accuracy_score, recall_score, precision_score, classification_report, confusion_matrix\n",
    "\n",
    "%matplotlib inline\n",
    "# Suppress warnings\n",
    "warnings.filterwarnings(\"ignore\")"
   ]
  },
  {
   "cell_type": "code",
   "execution_count": 39,
   "id": "086cd96a",
   "metadata": {},
   "outputs": [
    {
     "data": {
      "text/plain": [
       "GaussianNB()"
      ]
     },
     "execution_count": 39,
     "metadata": {},
     "output_type": "execute_result"
    }
   ],
   "source": [
    "classifier = GaussianNB()\n",
    "\n",
    "classifier.fit(X_train, Y_train)"
   ]
  },
  {
   "cell_type": "code",
   "execution_count": 40,
   "id": "b6e88691",
   "metadata": {},
   "outputs": [
    {
     "name": "stdout",
     "output_type": "stream",
     "text": [
      "              precision    recall  f1-score   support\n",
      "\n",
      "         0.0       0.79      0.80      0.80        85\n",
      "         1.0       0.70      0.69      0.70        58\n",
      "\n",
      "    accuracy                           0.76       143\n",
      "   macro avg       0.75      0.74      0.75       143\n",
      "weighted avg       0.75      0.76      0.75       143\n",
      "\n",
      "[[68 17]\n",
      " [18 40]]\n",
      "accuracy is 0.7552447552447552\n"
     ]
    }
   ],
   "source": [
    "y_pred = classifier.predict(X_val)\n",
    "\n",
    "# Summary of the predictions made by the classifier\n",
    "print(classification_report(Y_val, y_pred))\n",
    "print(confusion_matrix(Y_val, y_pred))\n",
    "# Accuracy score\n",
    "from sklearn.metrics import accuracy_score\n",
    "print('accuracy is',accuracy_score(Y_val, y_pred))"
   ]
  },
  {
   "cell_type": "markdown",
   "id": "1f3ef4ea",
   "metadata": {},
   "source": [
    "# 2. (Glass Dataset)\n",
    "1. Implement Naïve Bayes method using scikit-learn library.\n",
    "a. Use the glass dataset available in Link also provided in your assignment."
   ]
  },
  {
   "cell_type": "code",
   "execution_count": 41,
   "id": "3b9c6e31",
   "metadata": {},
   "outputs": [],
   "source": [
    "glass=pd.read_csv(\"glass.csv\") #importing glass dataset from given link"
   ]
  },
  {
   "cell_type": "code",
   "execution_count": 42,
   "id": "29da5481",
   "metadata": {},
   "outputs": [
    {
     "data": {
      "text/html": [
       "<div>\n",
       "<style scoped>\n",
       "    .dataframe tbody tr th:only-of-type {\n",
       "        vertical-align: middle;\n",
       "    }\n",
       "\n",
       "    .dataframe tbody tr th {\n",
       "        vertical-align: top;\n",
       "    }\n",
       "\n",
       "    .dataframe thead th {\n",
       "        text-align: right;\n",
       "    }\n",
       "</style>\n",
       "<table border=\"1\" class=\"dataframe\">\n",
       "  <thead>\n",
       "    <tr style=\"text-align: right;\">\n",
       "      <th></th>\n",
       "      <th>RI</th>\n",
       "      <th>Na</th>\n",
       "      <th>Mg</th>\n",
       "      <th>Al</th>\n",
       "      <th>Si</th>\n",
       "      <th>K</th>\n",
       "      <th>Ca</th>\n",
       "      <th>Ba</th>\n",
       "      <th>Fe</th>\n",
       "      <th>Type</th>\n",
       "    </tr>\n",
       "  </thead>\n",
       "  <tbody>\n",
       "    <tr>\n",
       "      <th>0</th>\n",
       "      <td>1.52101</td>\n",
       "      <td>13.64</td>\n",
       "      <td>4.49</td>\n",
       "      <td>1.10</td>\n",
       "      <td>71.78</td>\n",
       "      <td>0.06</td>\n",
       "      <td>8.75</td>\n",
       "      <td>0.0</td>\n",
       "      <td>0.0</td>\n",
       "      <td>1</td>\n",
       "    </tr>\n",
       "    <tr>\n",
       "      <th>1</th>\n",
       "      <td>1.51761</td>\n",
       "      <td>13.89</td>\n",
       "      <td>3.60</td>\n",
       "      <td>1.36</td>\n",
       "      <td>72.73</td>\n",
       "      <td>0.48</td>\n",
       "      <td>7.83</td>\n",
       "      <td>0.0</td>\n",
       "      <td>0.0</td>\n",
       "      <td>1</td>\n",
       "    </tr>\n",
       "    <tr>\n",
       "      <th>2</th>\n",
       "      <td>1.51618</td>\n",
       "      <td>13.53</td>\n",
       "      <td>3.55</td>\n",
       "      <td>1.54</td>\n",
       "      <td>72.99</td>\n",
       "      <td>0.39</td>\n",
       "      <td>7.78</td>\n",
       "      <td>0.0</td>\n",
       "      <td>0.0</td>\n",
       "      <td>1</td>\n",
       "    </tr>\n",
       "    <tr>\n",
       "      <th>3</th>\n",
       "      <td>1.51766</td>\n",
       "      <td>13.21</td>\n",
       "      <td>3.69</td>\n",
       "      <td>1.29</td>\n",
       "      <td>72.61</td>\n",
       "      <td>0.57</td>\n",
       "      <td>8.22</td>\n",
       "      <td>0.0</td>\n",
       "      <td>0.0</td>\n",
       "      <td>1</td>\n",
       "    </tr>\n",
       "    <tr>\n",
       "      <th>4</th>\n",
       "      <td>1.51742</td>\n",
       "      <td>13.27</td>\n",
       "      <td>3.62</td>\n",
       "      <td>1.24</td>\n",
       "      <td>73.08</td>\n",
       "      <td>0.55</td>\n",
       "      <td>8.07</td>\n",
       "      <td>0.0</td>\n",
       "      <td>0.0</td>\n",
       "      <td>1</td>\n",
       "    </tr>\n",
       "  </tbody>\n",
       "</table>\n",
       "</div>"
      ],
      "text/plain": [
       "        RI     Na    Mg    Al     Si     K    Ca   Ba   Fe  Type\n",
       "0  1.52101  13.64  4.49  1.10  71.78  0.06  8.75  0.0  0.0     1\n",
       "1  1.51761  13.89  3.60  1.36  72.73  0.48  7.83  0.0  0.0     1\n",
       "2  1.51618  13.53  3.55  1.54  72.99  0.39  7.78  0.0  0.0     1\n",
       "3  1.51766  13.21  3.69  1.29  72.61  0.57  8.22  0.0  0.0     1\n",
       "4  1.51742  13.27  3.62  1.24  73.08  0.55  8.07  0.0  0.0     1"
      ]
     },
     "execution_count": 42,
     "metadata": {},
     "output_type": "execute_result"
    }
   ],
   "source": [
    "glass.head()"
   ]
  },
  {
   "cell_type": "code",
   "execution_count": 43,
   "id": "4b2b7662",
   "metadata": {},
   "outputs": [
    {
     "data": {
      "text/html": [
       "<style type=\"text/css\">\n",
       "#T_57905_row0_col0, #T_57905_row1_col1, #T_57905_row2_col2, #T_57905_row3_col3, #T_57905_row4_col4, #T_57905_row5_col5, #T_57905_row6_col6, #T_57905_row7_col7, #T_57905_row8_col8, #T_57905_row9_col9 {\n",
       "  background-color: #00441b;\n",
       "  color: #f1f1f1;\n",
       "}\n",
       "#T_57905_row0_col1 {\n",
       "  background-color: #eef8ea;\n",
       "  color: #000000;\n",
       "}\n",
       "#T_57905_row0_col2 {\n",
       "  background-color: #a7dba0;\n",
       "  color: #000000;\n",
       "}\n",
       "#T_57905_row0_col3 {\n",
       "  background-color: #f0f9ed;\n",
       "  color: #000000;\n",
       "}\n",
       "#T_57905_row0_col4, #T_57905_row1_col8, #T_57905_row2_col1, #T_57905_row2_col3, #T_57905_row2_col6, #T_57905_row2_col7, #T_57905_row2_col9, #T_57905_row4_col0, #T_57905_row6_col1, #T_57905_row6_col5, #T_57905_row9_col2 {\n",
       "  background-color: #f7fcf5;\n",
       "  color: #000000;\n",
       "}\n",
       "#T_57905_row0_col5 {\n",
       "  background-color: #f4fbf2;\n",
       "  color: #000000;\n",
       "}\n",
       "#T_57905_row0_col6 {\n",
       "  background-color: #016e2d;\n",
       "  color: #f1f1f1;\n",
       "}\n",
       "#T_57905_row0_col7, #T_57905_row4_col2 {\n",
       "  background-color: #afdfa8;\n",
       "  color: #000000;\n",
       "}\n",
       "#T_57905_row0_col8 {\n",
       "  background-color: #b5e1ae;\n",
       "  color: #000000;\n",
       "}\n",
       "#T_57905_row0_col9 {\n",
       "  background-color: #aedea7;\n",
       "  color: #000000;\n",
       "}\n",
       "#T_57905_row1_col0, #T_57905_row7_col6 {\n",
       "  background-color: #ccebc6;\n",
       "  color: #000000;\n",
       "}\n",
       "#T_57905_row1_col2, #T_57905_row2_col0 {\n",
       "  background-color: #c1e6ba;\n",
       "  color: #000000;\n",
       "}\n",
       "#T_57905_row1_col3, #T_57905_row5_col2 {\n",
       "  background-color: #8dd08a;\n",
       "  color: #000000;\n",
       "}\n",
       "#T_57905_row1_col4, #T_57905_row9_col6 {\n",
       "  background-color: #b6e2af;\n",
       "  color: #000000;\n",
       "}\n",
       "#T_57905_row1_col5, #T_57905_row9_col8 {\n",
       "  background-color: #f1faee;\n",
       "  color: #000000;\n",
       "}\n",
       "#T_57905_row1_col6 {\n",
       "  background-color: #e7f6e2;\n",
       "  color: #000000;\n",
       "}\n",
       "#T_57905_row1_col7 {\n",
       "  background-color: #60ba6c;\n",
       "  color: #f1f1f1;\n",
       "}\n",
       "#T_57905_row1_col9, #T_57905_row9_col7 {\n",
       "  background-color: #2b934b;\n",
       "  color: #f1f1f1;\n",
       "}\n",
       "#T_57905_row2_col4, #T_57905_row2_col5, #T_57905_row9_col0 {\n",
       "  background-color: #c9eac2;\n",
       "  color: #000000;\n",
       "}\n",
       "#T_57905_row2_col8, #T_57905_row4_col7 {\n",
       "  background-color: #c4e8bd;\n",
       "  color: #000000;\n",
       "}\n",
       "#T_57905_row3_col0, #T_57905_row5_col6 {\n",
       "  background-color: #ebf7e7;\n",
       "  color: #000000;\n",
       "}\n",
       "#T_57905_row3_col1 {\n",
       "  background-color: #acdea6;\n",
       "  color: #000000;\n",
       "}\n",
       "#T_57905_row3_col2, #T_57905_row6_col3 {\n",
       "  background-color: #dff3da;\n",
       "  color: #000000;\n",
       "}\n",
       "#T_57905_row3_col4, #T_57905_row7_col0 {\n",
       "  background-color: #a9dca3;\n",
       "  color: #000000;\n",
       "}\n",
       "#T_57905_row3_col5 {\n",
       "  background-color: #78c679;\n",
       "  color: #000000;\n",
       "}\n",
       "#T_57905_row3_col6 {\n",
       "  background-color: #e5f5e0;\n",
       "  color: #000000;\n",
       "}\n",
       "#T_57905_row3_col7, #T_57905_row7_col3 {\n",
       "  background-color: #3ba458;\n",
       "  color: #f1f1f1;\n",
       "}\n",
       "#T_57905_row3_col8 {\n",
       "  background-color: #e3f4de;\n",
       "  color: #000000;\n",
       "}\n",
       "#T_57905_row3_col9 {\n",
       "  background-color: #1d8640;\n",
       "  color: #f1f1f1;\n",
       "}\n",
       "#T_57905_row4_col1, #T_57905_row4_col6, #T_57905_row5_col0 {\n",
       "  background-color: #dcf2d7;\n",
       "  color: #000000;\n",
       "}\n",
       "#T_57905_row4_col3 {\n",
       "  background-color: #b1e0ab;\n",
       "  color: #000000;\n",
       "}\n",
       "#T_57905_row4_col5 {\n",
       "  background-color: #e9f7e5;\n",
       "  color: #000000;\n",
       "}\n",
       "#T_57905_row4_col8 {\n",
       "  background-color: #e6f5e1;\n",
       "  color: #000000;\n",
       "}\n",
       "#T_57905_row4_col9 {\n",
       "  background-color: #6ec173;\n",
       "  color: #000000;\n",
       "}\n",
       "#T_57905_row5_col1 {\n",
       "  background-color: #f6fcf4;\n",
       "  color: #000000;\n",
       "}\n",
       "#T_57905_row5_col3 {\n",
       "  background-color: #62bb6d;\n",
       "  color: #f1f1f1;\n",
       "}\n",
       "#T_57905_row5_col4 {\n",
       "  background-color: #cdecc7;\n",
       "  color: #000000;\n",
       "}\n",
       "#T_57905_row5_col7 {\n",
       "  background-color: #b7e2b1;\n",
       "  color: #000000;\n",
       "}\n",
       "#T_57905_row5_col8 {\n",
       "  background-color: #d6efd0;\n",
       "  color: #000000;\n",
       "}\n",
       "#T_57905_row5_col9 {\n",
       "  background-color: #91d28e;\n",
       "  color: #000000;\n",
       "}\n",
       "#T_57905_row6_col0 {\n",
       "  background-color: #006c2c;\n",
       "  color: #f1f1f1;\n",
       "}\n",
       "#T_57905_row6_col2 {\n",
       "  background-color: #daf0d4;\n",
       "  color: #000000;\n",
       "}\n",
       "#T_57905_row6_col4 {\n",
       "  background-color: #cfecc9;\n",
       "  color: #000000;\n",
       "}\n",
       "#T_57905_row6_col7 {\n",
       "  background-color: #c6e8bf;\n",
       "  color: #000000;\n",
       "}\n",
       "#T_57905_row6_col8 {\n",
       "  background-color: #bae3b3;\n",
       "  color: #000000;\n",
       "}\n",
       "#T_57905_row6_col9 {\n",
       "  background-color: #8ed08b;\n",
       "  color: #000000;\n",
       "}\n",
       "#T_57905_row7_col1 {\n",
       "  background-color: #7fc97f;\n",
       "  color: #000000;\n",
       "}\n",
       "#T_57905_row7_col2, #T_57905_row7_col8 {\n",
       "  background-color: #e0f3db;\n",
       "  color: #000000;\n",
       "}\n",
       "#T_57905_row7_col4 {\n",
       "  background-color: #bce4b5;\n",
       "  color: #000000;\n",
       "}\n",
       "#T_57905_row7_col5 {\n",
       "  background-color: #d1edcb;\n",
       "  color: #000000;\n",
       "}\n",
       "#T_57905_row7_col9 {\n",
       "  background-color: #218944;\n",
       "  color: #f1f1f1;\n",
       "}\n",
       "#T_57905_row8_col0 {\n",
       "  background-color: #88ce87;\n",
       "  color: #000000;\n",
       "}\n",
       "#T_57905_row8_col1 {\n",
       "  background-color: #f4fbf1;\n",
       "  color: #000000;\n",
       "}\n",
       "#T_57905_row8_col2 {\n",
       "  background-color: #7dc87e;\n",
       "  color: #000000;\n",
       "}\n",
       "#T_57905_row8_col3 {\n",
       "  background-color: #c0e6b9;\n",
       "  color: #000000;\n",
       "}\n",
       "#T_57905_row8_col4, #T_57905_row8_col7 {\n",
       "  background-color: #bbe4b4;\n",
       "  color: #000000;\n",
       "}\n",
       "#T_57905_row8_col5 {\n",
       "  background-color: #cbeac4;\n",
       "  color: #000000;\n",
       "}\n",
       "#T_57905_row8_col6 {\n",
       "  background-color: #9bd696;\n",
       "  color: #000000;\n",
       "}\n",
       "#T_57905_row8_col9 {\n",
       "  background-color: #b2e0ac;\n",
       "  color: #000000;\n",
       "}\n",
       "#T_57905_row9_col1 {\n",
       "  background-color: #46ae60;\n",
       "  color: #f1f1f1;\n",
       "}\n",
       "#T_57905_row9_col3 {\n",
       "  background-color: #289049;\n",
       "  color: #f1f1f1;\n",
       "}\n",
       "#T_57905_row9_col4 {\n",
       "  background-color: #86cc85;\n",
       "  color: #000000;\n",
       "}\n",
       "#T_57905_row9_col5 {\n",
       "  background-color: #cbebc5;\n",
       "  color: #000000;\n",
       "}\n",
       "</style>\n",
       "<table id=\"T_57905\">\n",
       "  <thead>\n",
       "    <tr>\n",
       "      <th class=\"blank level0\" >&nbsp;</th>\n",
       "      <th id=\"T_57905_level0_col0\" class=\"col_heading level0 col0\" >RI</th>\n",
       "      <th id=\"T_57905_level0_col1\" class=\"col_heading level0 col1\" >Na</th>\n",
       "      <th id=\"T_57905_level0_col2\" class=\"col_heading level0 col2\" >Mg</th>\n",
       "      <th id=\"T_57905_level0_col3\" class=\"col_heading level0 col3\" >Al</th>\n",
       "      <th id=\"T_57905_level0_col4\" class=\"col_heading level0 col4\" >Si</th>\n",
       "      <th id=\"T_57905_level0_col5\" class=\"col_heading level0 col5\" >K</th>\n",
       "      <th id=\"T_57905_level0_col6\" class=\"col_heading level0 col6\" >Ca</th>\n",
       "      <th id=\"T_57905_level0_col7\" class=\"col_heading level0 col7\" >Ba</th>\n",
       "      <th id=\"T_57905_level0_col8\" class=\"col_heading level0 col8\" >Fe</th>\n",
       "      <th id=\"T_57905_level0_col9\" class=\"col_heading level0 col9\" >Type</th>\n",
       "    </tr>\n",
       "  </thead>\n",
       "  <tbody>\n",
       "    <tr>\n",
       "      <th id=\"T_57905_level0_row0\" class=\"row_heading level0 row0\" >RI</th>\n",
       "      <td id=\"T_57905_row0_col0\" class=\"data row0 col0\" >1.000000</td>\n",
       "      <td id=\"T_57905_row0_col1\" class=\"data row0 col1\" >-0.191885</td>\n",
       "      <td id=\"T_57905_row0_col2\" class=\"data row0 col2\" >-0.122274</td>\n",
       "      <td id=\"T_57905_row0_col3\" class=\"data row0 col3\" >-0.407326</td>\n",
       "      <td id=\"T_57905_row0_col4\" class=\"data row0 col4\" >-0.542052</td>\n",
       "      <td id=\"T_57905_row0_col5\" class=\"data row0 col5\" >-0.289833</td>\n",
       "      <td id=\"T_57905_row0_col6\" class=\"data row0 col6\" >0.810403</td>\n",
       "      <td id=\"T_57905_row0_col7\" class=\"data row0 col7\" >-0.000386</td>\n",
       "      <td id=\"T_57905_row0_col8\" class=\"data row0 col8\" >0.143010</td>\n",
       "      <td id=\"T_57905_row0_col9\" class=\"data row0 col9\" >-0.164237</td>\n",
       "    </tr>\n",
       "    <tr>\n",
       "      <th id=\"T_57905_level0_row1\" class=\"row_heading level0 row1\" >Na</th>\n",
       "      <td id=\"T_57905_row1_col0\" class=\"data row1 col0\" >-0.191885</td>\n",
       "      <td id=\"T_57905_row1_col1\" class=\"data row1 col1\" >1.000000</td>\n",
       "      <td id=\"T_57905_row1_col2\" class=\"data row1 col2\" >-0.273732</td>\n",
       "      <td id=\"T_57905_row1_col3\" class=\"data row1 col3\" >0.156794</td>\n",
       "      <td id=\"T_57905_row1_col4\" class=\"data row1 col4\" >-0.069809</td>\n",
       "      <td id=\"T_57905_row1_col5\" class=\"data row1 col5\" >-0.266087</td>\n",
       "      <td id=\"T_57905_row1_col6\" class=\"data row1 col6\" >-0.275442</td>\n",
       "      <td id=\"T_57905_row1_col7\" class=\"data row1 col7\" >0.326603</td>\n",
       "      <td id=\"T_57905_row1_col8\" class=\"data row1 col8\" >-0.241346</td>\n",
       "      <td id=\"T_57905_row1_col9\" class=\"data row1 col9\" >0.502898</td>\n",
       "    </tr>\n",
       "    <tr>\n",
       "      <th id=\"T_57905_level0_row2\" class=\"row_heading level0 row2\" >Mg</th>\n",
       "      <td id=\"T_57905_row2_col0\" class=\"data row2 col0\" >-0.122274</td>\n",
       "      <td id=\"T_57905_row2_col1\" class=\"data row2 col1\" >-0.273732</td>\n",
       "      <td id=\"T_57905_row2_col2\" class=\"data row2 col2\" >1.000000</td>\n",
       "      <td id=\"T_57905_row2_col3\" class=\"data row2 col3\" >-0.481799</td>\n",
       "      <td id=\"T_57905_row2_col4\" class=\"data row2 col4\" >-0.165927</td>\n",
       "      <td id=\"T_57905_row2_col5\" class=\"data row2 col5\" >0.005396</td>\n",
       "      <td id=\"T_57905_row2_col6\" class=\"data row2 col6\" >-0.443750</td>\n",
       "      <td id=\"T_57905_row2_col7\" class=\"data row2 col7\" >-0.492262</td>\n",
       "      <td id=\"T_57905_row2_col8\" class=\"data row2 col8\" >0.083060</td>\n",
       "      <td id=\"T_57905_row2_col9\" class=\"data row2 col9\" >-0.744993</td>\n",
       "    </tr>\n",
       "    <tr>\n",
       "      <th id=\"T_57905_level0_row3\" class=\"row_heading level0 row3\" >Al</th>\n",
       "      <td id=\"T_57905_row3_col0\" class=\"data row3 col0\" >-0.407326</td>\n",
       "      <td id=\"T_57905_row3_col1\" class=\"data row3 col1\" >0.156794</td>\n",
       "      <td id=\"T_57905_row3_col2\" class=\"data row3 col2\" >-0.481799</td>\n",
       "      <td id=\"T_57905_row3_col3\" class=\"data row3 col3\" >1.000000</td>\n",
       "      <td id=\"T_57905_row3_col4\" class=\"data row3 col4\" >-0.005524</td>\n",
       "      <td id=\"T_57905_row3_col5\" class=\"data row3 col5\" >0.325958</td>\n",
       "      <td id=\"T_57905_row3_col6\" class=\"data row3 col6\" >-0.259592</td>\n",
       "      <td id=\"T_57905_row3_col7\" class=\"data row3 col7\" >0.479404</td>\n",
       "      <td id=\"T_57905_row3_col8\" class=\"data row3 col8\" >-0.074402</td>\n",
       "      <td id=\"T_57905_row3_col9\" class=\"data row3 col9\" >0.598829</td>\n",
       "    </tr>\n",
       "    <tr>\n",
       "      <th id=\"T_57905_level0_row4\" class=\"row_heading level0 row4\" >Si</th>\n",
       "      <td id=\"T_57905_row4_col0\" class=\"data row4 col0\" >-0.542052</td>\n",
       "      <td id=\"T_57905_row4_col1\" class=\"data row4 col1\" >-0.069809</td>\n",
       "      <td id=\"T_57905_row4_col2\" class=\"data row4 col2\" >-0.165927</td>\n",
       "      <td id=\"T_57905_row4_col3\" class=\"data row4 col3\" >-0.005524</td>\n",
       "      <td id=\"T_57905_row4_col4\" class=\"data row4 col4\" >1.000000</td>\n",
       "      <td id=\"T_57905_row4_col5\" class=\"data row4 col5\" >-0.193331</td>\n",
       "      <td id=\"T_57905_row4_col6\" class=\"data row4 col6\" >-0.208732</td>\n",
       "      <td id=\"T_57905_row4_col7\" class=\"data row4 col7\" >-0.102151</td>\n",
       "      <td id=\"T_57905_row4_col8\" class=\"data row4 col8\" >-0.094201</td>\n",
       "      <td id=\"T_57905_row4_col9\" class=\"data row4 col9\" >0.151565</td>\n",
       "    </tr>\n",
       "    <tr>\n",
       "      <th id=\"T_57905_level0_row5\" class=\"row_heading level0 row5\" >K</th>\n",
       "      <td id=\"T_57905_row5_col0\" class=\"data row5 col0\" >-0.289833</td>\n",
       "      <td id=\"T_57905_row5_col1\" class=\"data row5 col1\" >-0.266087</td>\n",
       "      <td id=\"T_57905_row5_col2\" class=\"data row5 col2\" >0.005396</td>\n",
       "      <td id=\"T_57905_row5_col3\" class=\"data row5 col3\" >0.325958</td>\n",
       "      <td id=\"T_57905_row5_col4\" class=\"data row5 col4\" >-0.193331</td>\n",
       "      <td id=\"T_57905_row5_col5\" class=\"data row5 col5\" >1.000000</td>\n",
       "      <td id=\"T_57905_row5_col6\" class=\"data row5 col6\" >-0.317836</td>\n",
       "      <td id=\"T_57905_row5_col7\" class=\"data row5 col7\" >-0.042618</td>\n",
       "      <td id=\"T_57905_row5_col8\" class=\"data row5 col8\" >-0.007719</td>\n",
       "      <td id=\"T_57905_row5_col9\" class=\"data row5 col9\" >-0.010054</td>\n",
       "    </tr>\n",
       "    <tr>\n",
       "      <th id=\"T_57905_level0_row6\" class=\"row_heading level0 row6\" >Ca</th>\n",
       "      <td id=\"T_57905_row6_col0\" class=\"data row6 col0\" >0.810403</td>\n",
       "      <td id=\"T_57905_row6_col1\" class=\"data row6 col1\" >-0.275442</td>\n",
       "      <td id=\"T_57905_row6_col2\" class=\"data row6 col2\" >-0.443750</td>\n",
       "      <td id=\"T_57905_row6_col3\" class=\"data row6 col3\" >-0.259592</td>\n",
       "      <td id=\"T_57905_row6_col4\" class=\"data row6 col4\" >-0.208732</td>\n",
       "      <td id=\"T_57905_row6_col5\" class=\"data row6 col5\" >-0.317836</td>\n",
       "      <td id=\"T_57905_row6_col6\" class=\"data row6 col6\" >1.000000</td>\n",
       "      <td id=\"T_57905_row6_col7\" class=\"data row6 col7\" >-0.112841</td>\n",
       "      <td id=\"T_57905_row6_col8\" class=\"data row6 col8\" >0.124968</td>\n",
       "      <td id=\"T_57905_row6_col9\" class=\"data row6 col9\" >0.000952</td>\n",
       "    </tr>\n",
       "    <tr>\n",
       "      <th id=\"T_57905_level0_row7\" class=\"row_heading level0 row7\" >Ba</th>\n",
       "      <td id=\"T_57905_row7_col0\" class=\"data row7 col0\" >-0.000386</td>\n",
       "      <td id=\"T_57905_row7_col1\" class=\"data row7 col1\" >0.326603</td>\n",
       "      <td id=\"T_57905_row7_col2\" class=\"data row7 col2\" >-0.492262</td>\n",
       "      <td id=\"T_57905_row7_col3\" class=\"data row7 col3\" >0.479404</td>\n",
       "      <td id=\"T_57905_row7_col4\" class=\"data row7 col4\" >-0.102151</td>\n",
       "      <td id=\"T_57905_row7_col5\" class=\"data row7 col5\" >-0.042618</td>\n",
       "      <td id=\"T_57905_row7_col6\" class=\"data row7 col6\" >-0.112841</td>\n",
       "      <td id=\"T_57905_row7_col7\" class=\"data row7 col7\" >1.000000</td>\n",
       "      <td id=\"T_57905_row7_col8\" class=\"data row7 col8\" >-0.058692</td>\n",
       "      <td id=\"T_57905_row7_col9\" class=\"data row7 col9\" >0.575161</td>\n",
       "    </tr>\n",
       "    <tr>\n",
       "      <th id=\"T_57905_level0_row8\" class=\"row_heading level0 row8\" >Fe</th>\n",
       "      <td id=\"T_57905_row8_col0\" class=\"data row8 col0\" >0.143010</td>\n",
       "      <td id=\"T_57905_row8_col1\" class=\"data row8 col1\" >-0.241346</td>\n",
       "      <td id=\"T_57905_row8_col2\" class=\"data row8 col2\" >0.083060</td>\n",
       "      <td id=\"T_57905_row8_col3\" class=\"data row8 col3\" >-0.074402</td>\n",
       "      <td id=\"T_57905_row8_col4\" class=\"data row8 col4\" >-0.094201</td>\n",
       "      <td id=\"T_57905_row8_col5\" class=\"data row8 col5\" >-0.007719</td>\n",
       "      <td id=\"T_57905_row8_col6\" class=\"data row8 col6\" >0.124968</td>\n",
       "      <td id=\"T_57905_row8_col7\" class=\"data row8 col7\" >-0.058692</td>\n",
       "      <td id=\"T_57905_row8_col8\" class=\"data row8 col8\" >1.000000</td>\n",
       "      <td id=\"T_57905_row8_col9\" class=\"data row8 col9\" >-0.188278</td>\n",
       "    </tr>\n",
       "    <tr>\n",
       "      <th id=\"T_57905_level0_row9\" class=\"row_heading level0 row9\" >Type</th>\n",
       "      <td id=\"T_57905_row9_col0\" class=\"data row9 col0\" >-0.164237</td>\n",
       "      <td id=\"T_57905_row9_col1\" class=\"data row9 col1\" >0.502898</td>\n",
       "      <td id=\"T_57905_row9_col2\" class=\"data row9 col2\" >-0.744993</td>\n",
       "      <td id=\"T_57905_row9_col3\" class=\"data row9 col3\" >0.598829</td>\n",
       "      <td id=\"T_57905_row9_col4\" class=\"data row9 col4\" >0.151565</td>\n",
       "      <td id=\"T_57905_row9_col5\" class=\"data row9 col5\" >-0.010054</td>\n",
       "      <td id=\"T_57905_row9_col6\" class=\"data row9 col6\" >0.000952</td>\n",
       "      <td id=\"T_57905_row9_col7\" class=\"data row9 col7\" >0.575161</td>\n",
       "      <td id=\"T_57905_row9_col8\" class=\"data row9 col8\" >-0.188278</td>\n",
       "      <td id=\"T_57905_row9_col9\" class=\"data row9 col9\" >1.000000</td>\n",
       "    </tr>\n",
       "  </tbody>\n",
       "</table>\n"
      ],
      "text/plain": [
       "<pandas.io.formats.style.Styler at 0x129010220>"
      ]
     },
     "execution_count": 43,
     "metadata": {},
     "output_type": "execute_result"
    }
   ],
   "source": [
    "des=glass.corr()\n",
    "glass.corr().style.background_gradient(cmap=\"Greens\")"
   ]
  },
  {
   "cell_type": "markdown",
   "id": "d5a5898b",
   "metadata": {},
   "source": [
    "# b. Use train_test_split to create training and testing part"
   ]
  },
  {
   "cell_type": "code",
   "execution_count": 44,
   "id": "5bf99cb5",
   "metadata": {},
   "outputs": [],
   "source": [
    "features = ['Rl', 'Na', 'Mg', 'Al', 'Si', 'K', 'Ca', 'Ba', 'Fe']\n",
    "target = 'Type'\n",
    "\n",
    "\n",
    "X_train, X_val, Y_train, Y_val = train_test_split(glass[::-1], glass[target],test_size=0.2, random_state=1)"
   ]
  },
  {
   "cell_type": "markdown",
   "id": "761824c6",
   "metadata": {},
   "source": [
    "# 2. Evaluate the model on testing part using score and classification_report(y_true, y_pred)"
   ]
  },
  {
   "cell_type": "code",
   "execution_count": 45,
   "id": "9fce2847",
   "metadata": {},
   "outputs": [
    {
     "name": "stdout",
     "output_type": "stream",
     "text": [
      "              precision    recall  f1-score   support\n",
      "\n",
      "           1       0.90      0.95      0.92        19\n",
      "           2       0.92      0.92      0.92        12\n",
      "           3       1.00      0.50      0.67         6\n",
      "           5       0.00      0.00      0.00         1\n",
      "           6       1.00      1.00      1.00         1\n",
      "           7       0.75      0.75      0.75         4\n",
      "\n",
      "    accuracy                           0.84        43\n",
      "   macro avg       0.76      0.69      0.71        43\n",
      "weighted avg       0.89      0.84      0.85        43\n",
      "\n",
      "[[18  1  0  0  0  0]\n",
      " [ 1 11  0  0  0  0]\n",
      " [ 1  0  3  2  0  0]\n",
      " [ 0  0  0  0  0  1]\n",
      " [ 0  0  0  0  1  0]\n",
      " [ 0  0  0  1  0  3]]\n",
      "\n",
      "accuracy is 0.8372093023255814\n"
     ]
    }
   ],
   "source": [
    "classifier = GaussianNB()\n",
    "\n",
    "classifier.fit(X_train, Y_train)\n",
    "\n",
    "\n",
    "y_pred = classifier.predict(X_val)\n",
    "\n",
    "# Summary of the predictions made by the classifier\n",
    "print(classification_report(Y_val, y_pred))\n",
    "print(confusion_matrix(Y_val, y_pred))\n",
    "# Accuracy score\n",
    "from sklearn.metrics import accuracy_score\n",
    "print('\\naccuracy is',accuracy_score(Y_val, y_pred))"
   ]
  },
  {
   "cell_type": "markdown",
   "id": "80601ab9",
   "metadata": {},
   "source": [
    "# 1. Implement linear SVM method using scikit library"
   ]
  },
  {
   "cell_type": "code",
   "execution_count": 61,
   "id": "328f8d70",
   "metadata": {},
   "outputs": [
    {
     "data": {
      "text/plain": [
       "LinearSVC()"
      ]
     },
     "execution_count": 61,
     "metadata": {},
     "output_type": "execute_result"
    }
   ],
   "source": [
    "from sklearn.svm import SVC, LinearSVC\n",
    "classifier = LinearSVC()\n",
    "\n",
    "classifier.fit(X_train, Y_train)"
   ]
  },
  {
   "cell_type": "markdown",
   "id": "b1cd7989",
   "metadata": {},
   "source": [
    "# 2. Evaluate the model on testing part using score and classification_report(y_true, y_pred)"
   ]
  },
  {
   "cell_type": "code",
   "execution_count": 62,
   "id": "27a225ed",
   "metadata": {},
   "outputs": [
    {
     "name": "stdout",
     "output_type": "stream",
     "text": [
      "              precision    recall  f1-score   support\n",
      "\n",
      "           1       1.00      0.95      0.97        19\n",
      "           2       0.00      0.00      0.00        12\n",
      "           3       0.00      0.00      0.00         6\n",
      "           5       0.00      0.00      0.00         1\n",
      "           6       0.04      1.00      0.08         1\n",
      "           7       0.00      0.00      0.00         4\n",
      "\n",
      "    accuracy                           0.44        43\n",
      "   macro avg       0.17      0.32      0.17        43\n",
      "weighted avg       0.44      0.44      0.43        43\n",
      "\n",
      "[[18  0  0  0  1  0]\n",
      " [ 0  0  0  0 12  0]\n",
      " [ 0  0  0  0  6  0]\n",
      " [ 0  0  0  0  1  0]\n",
      " [ 0  0  0  0  1  0]\n",
      " [ 0  0  0  0  4  0]]\n",
      "\n",
      "accuracy is 0.4418604651162791\n"
     ]
    }
   ],
   "source": [
    "y_pred = classifier.predict(X_val)\n",
    "\n",
    "# Summary of the predictions made by the classifier\n",
    "print(classification_report(Y_val, y_pred))\n",
    "print(confusion_matrix(Y_val, y_pred))\n",
    "# Accuracy score\n",
    "from sklearn.metrics import accuracy_score\n",
    "print('\\naccuracy is',accuracy_score(Y_val, y_pred))"
   ]
  },
  {
   "cell_type": "markdown",
   "id": "473a7425",
   "metadata": {},
   "source": [
    "# Do at least two visualizations to describe or show correlations in the Glass Dataset. "
   ]
  },
  {
   "cell_type": "code",
   "execution_count": 63,
   "id": "ed9f3c22",
   "metadata": {},
   "outputs": [
    {
     "data": {
      "text/plain": [
       "<AxesSubplot:>"
      ]
     },
     "execution_count": 63,
     "metadata": {},
     "output_type": "execute_result"
    },
    {
     "data": {
      "image/png": "[encoded data removed]",
      "text/plain": [
       "<Figure size 432x288 with 2 Axes>"
      ]
     },
     "metadata": {
      "needs_background": "light"
     },
     "output_type": "display_data"
    }
   ],
   "source": [
    "sns.heatmap(data=glass) #HeatMap Visualization for above dataset"
   ]
  },
  {
   "cell_type": "code",
   "execution_count": 64,
   "id": "ce203c71",
   "metadata": {},
   "outputs": [
    {
     "data": {
      "text/plain": [
       "<AxesSubplot:>"
      ]
     },
     "execution_count": 64,
     "metadata": {},
     "output_type": "execute_result"
    },
    {
     "data": {
      "image/png": "[encoded data removed]",
      "text/plain": [
       "<Figure size 432x288 with 1 Axes>"
      ]
     },
     "metadata": {
      "needs_background": "light"
     },
     "output_type": "display_data"
    }
   ],
   "source": [
    "sns.scatterplot(data=glass)  #ScatterPlot Visualization for above dataset"
   ]
  },
  {
   "cell_type": "markdown",
   "id": "31518075",
   "metadata": {},
   "source": [
    "# Which algorithm you got better accuracy? Can you justify why?"
   ]
  },
  {
   "cell_type": "markdown",
   "id": "10e8dde7",
   "metadata": {},
   "source": [
    "According to the above accuracy scores Naive Bayes method is best for data visualization than that of Support Vector Machine method. The performance of the each algorithm depends on several factors. So, few algorithms works well for only few of the problems and does not work well for other problems. By evaluating the model using various algorithms we can compare and then state which one is best."
   ]
  },
  {
   "cell_type": "code",
   "execution_count": null,
   "id": "1733268c",
   "metadata": {},
   "outputs": [],
   "source": []
  }
 ],
 "metadata": {
  "kernelspec": {
   "display_name": "Python 3 (ipykernel)",
   "language": "python",
   "name": "python3"
  },
  "language_info": {
   "codemirror_mode": {
    "name": "ipython",
    "version": 3
   },
   "file_extension": ".py",
   "mimetype": "text/x-python",
   "name": "python",
   "nbconvert_exporter": "python",
   "pygments_lexer": "ipython3",
   "version": "3.9.12"
  }
 },
 "nbformat": 4,
 "nbformat_minor": 5
}
